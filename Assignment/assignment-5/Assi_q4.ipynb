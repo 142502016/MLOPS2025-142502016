{
  "cells": [
    {
      "cell_type": "code",
      "source": [
        "import wandb\n",
        "! pip install torch\n",
        "import wandb\n",
        "import torch\n",
        "import torch.nn as nn\n",
        "import torch.optim as optim\n",
        "import torchvision\n",
        "import torchvision.transforms as transforms\n",
        "import pandas as pd\n",
        "import numpy as np\n",
        "import re\n",
        "import time\n",
        "from collections import Counter\n",
        "from datasets import load_dataset\n",
        "from snorkel.labeling import labeling_function, PandasLFApplier\n",
        "from snorkel.labeling import LFAnalysis\n",
        "from snorkel.labeling.model import MajorityLabelVoter\n"
      ],
      "metadata": {
        "colab": {
          "base_uri": "https://localhost:8080/"
        },
        "id": "y54aLcSzdBj4",
        "outputId": "f129df07-78ba-4765-fc36-a4db799f5089"
      },
      "id": "y54aLcSzdBj4",
      "execution_count": 2,
      "outputs": [
        {
          "output_type": "stream",
          "name": "stdout",
          "text": [
            "Requirement already satisfied: torch in /usr/local/lib/python3.12/dist-packages (2.8.0+cu126)\n",
            "Requirement already satisfied: filelock in /usr/local/lib/python3.12/dist-packages (from torch) (3.20.0)\n",
            "Requirement already satisfied: typing-extensions>=4.10.0 in /usr/local/lib/python3.12/dist-packages (from torch) (4.15.0)\n",
            "Requirement already satisfied: setuptools in /usr/local/lib/python3.12/dist-packages (from torch) (75.2.0)\n",
            "Requirement already satisfied: sympy>=1.13.3 in /usr/local/lib/python3.12/dist-packages (from torch) (1.13.3)\n",
            "Requirement already satisfied: networkx in /usr/local/lib/python3.12/dist-packages (from torch) (3.5)\n",
            "Requirement already satisfied: jinja2 in /usr/local/lib/python3.12/dist-packages (from torch) (3.1.6)\n",
            "Requirement already satisfied: fsspec in /usr/local/lib/python3.12/dist-packages (from torch) (2025.3.0)\n",
            "Requirement already satisfied: nvidia-cuda-nvrtc-cu12==12.6.77 in /usr/local/lib/python3.12/dist-packages (from torch) (12.6.77)\n",
            "Requirement already satisfied: nvidia-cuda-runtime-cu12==12.6.77 in /usr/local/lib/python3.12/dist-packages (from torch) (12.6.77)\n",
            "Requirement already satisfied: nvidia-cuda-cupti-cu12==12.6.80 in /usr/local/lib/python3.12/dist-packages (from torch) (12.6.80)\n",
            "Requirement already satisfied: nvidia-cudnn-cu12==9.10.2.21 in /usr/local/lib/python3.12/dist-packages (from torch) (9.10.2.21)\n",
            "Requirement already satisfied: nvidia-cublas-cu12==12.6.4.1 in /usr/local/lib/python3.12/dist-packages (from torch) (12.6.4.1)\n",
            "Requirement already satisfied: nvidia-cufft-cu12==11.3.0.4 in /usr/local/lib/python3.12/dist-packages (from torch) (11.3.0.4)\n",
            "Requirement already satisfied: nvidia-curand-cu12==10.3.7.77 in /usr/local/lib/python3.12/dist-packages (from torch) (10.3.7.77)\n",
            "Requirement already satisfied: nvidia-cusolver-cu12==11.7.1.2 in /usr/local/lib/python3.12/dist-packages (from torch) (11.7.1.2)\n",
            "Requirement already satisfied: nvidia-cusparse-cu12==12.5.4.2 in /usr/local/lib/python3.12/dist-packages (from torch) (12.5.4.2)\n",
            "Requirement already satisfied: nvidia-cusparselt-cu12==0.7.1 in /usr/local/lib/python3.12/dist-packages (from torch) (0.7.1)\n",
            "Requirement already satisfied: nvidia-nccl-cu12==2.27.3 in /usr/local/lib/python3.12/dist-packages (from torch) (2.27.3)\n",
            "Requirement already satisfied: nvidia-nvtx-cu12==12.6.77 in /usr/local/lib/python3.12/dist-packages (from torch) (12.6.77)\n",
            "Requirement already satisfied: nvidia-nvjitlink-cu12==12.6.85 in /usr/local/lib/python3.12/dist-packages (from torch) (12.6.85)\n",
            "Requirement already satisfied: nvidia-cufile-cu12==1.11.1.6 in /usr/local/lib/python3.12/dist-packages (from torch) (1.11.1.6)\n",
            "Requirement already satisfied: triton==3.4.0 in /usr/local/lib/python3.12/dist-packages (from torch) (3.4.0)\n",
            "Requirement already satisfied: mpmath<1.4,>=1.1.0 in /usr/local/lib/python3.12/dist-packages (from sympy>=1.13.3->torch) (1.3.0)\n",
            "Requirement already satisfied: MarkupSafe>=2.0 in /usr/local/lib/python3.12/dist-packages (from jinja2->torch) (3.0.3)\n"
          ]
        }
      ]
    },
    {
      "cell_type": "code",
      "source": [
        "!pip install snorkel"
      ],
      "metadata": {
        "colab": {
          "base_uri": "https://localhost:8080/"
        },
        "id": "x7sDgC087Wwk",
        "outputId": "3220c6cd-3508-4071-9dc5-05556afaa301"
      },
      "id": "x7sDgC087Wwk",
      "execution_count": 4,
      "outputs": [
        {
          "output_type": "stream",
          "name": "stdout",
          "text": [
            "Requirement already satisfied: snorkel in /usr/local/lib/python3.12/dist-packages (0.10.0)\n",
            "Requirement already satisfied: munkres>=1.0.6 in /usr/local/lib/python3.12/dist-packages (from snorkel) (1.1.4)\n",
            "Requirement already satisfied: numpy>=1.24.0 in /usr/local/lib/python3.12/dist-packages (from snorkel) (2.0.2)\n",
            "Requirement already satisfied: scipy>=1.2.0 in /usr/local/lib/python3.12/dist-packages (from snorkel) (1.16.2)\n",
            "Requirement already satisfied: pandas>=1.0.0 in /usr/local/lib/python3.12/dist-packages (from snorkel) (2.2.2)\n",
            "Requirement already satisfied: tqdm>=4.33.0 in /usr/local/lib/python3.12/dist-packages (from snorkel) (4.67.1)\n",
            "Requirement already satisfied: scikit-learn>=0.20.2 in /usr/local/lib/python3.12/dist-packages (from snorkel) (1.6.1)\n",
            "Requirement already satisfied: torch>=1.2.0 in /usr/local/lib/python3.12/dist-packages (from snorkel) (2.8.0+cu126)\n",
            "Requirement already satisfied: tensorboard>=2.13.0 in /usr/local/lib/python3.12/dist-packages (from snorkel) (2.19.0)\n",
            "Requirement already satisfied: protobuf>=3.19.6 in /usr/local/lib/python3.12/dist-packages (from snorkel) (5.29.5)\n",
            "Requirement already satisfied: networkx>=2.2 in /usr/local/lib/python3.12/dist-packages (from snorkel) (3.5)\n",
            "Requirement already satisfied: python-dateutil>=2.8.2 in /usr/local/lib/python3.12/dist-packages (from pandas>=1.0.0->snorkel) (2.9.0.post0)\n",
            "Requirement already satisfied: pytz>=2020.1 in /usr/local/lib/python3.12/dist-packages (from pandas>=1.0.0->snorkel) (2025.2)\n",
            "Requirement already satisfied: tzdata>=2022.7 in /usr/local/lib/python3.12/dist-packages (from pandas>=1.0.0->snorkel) (2025.2)\n",
            "Requirement already satisfied: joblib>=1.2.0 in /usr/local/lib/python3.12/dist-packages (from scikit-learn>=0.20.2->snorkel) (1.5.2)\n",
            "Requirement already satisfied: threadpoolctl>=3.1.0 in /usr/local/lib/python3.12/dist-packages (from scikit-learn>=0.20.2->snorkel) (3.6.0)\n",
            "Requirement already satisfied: absl-py>=0.4 in /usr/local/lib/python3.12/dist-packages (from tensorboard>=2.13.0->snorkel) (1.4.0)\n",
            "Requirement already satisfied: grpcio>=1.48.2 in /usr/local/lib/python3.12/dist-packages (from tensorboard>=2.13.0->snorkel) (1.75.1)\n",
            "Requirement already satisfied: markdown>=2.6.8 in /usr/local/lib/python3.12/dist-packages (from tensorboard>=2.13.0->snorkel) (3.9)\n",
            "Requirement already satisfied: packaging in /usr/local/lib/python3.12/dist-packages (from tensorboard>=2.13.0->snorkel) (25.0)\n",
            "Requirement already satisfied: setuptools>=41.0.0 in /usr/local/lib/python3.12/dist-packages (from tensorboard>=2.13.0->snorkel) (75.2.0)\n",
            "Requirement already satisfied: six>1.9 in /usr/local/lib/python3.12/dist-packages (from tensorboard>=2.13.0->snorkel) (1.17.0)\n",
            "Requirement already satisfied: tensorboard-data-server<0.8.0,>=0.7.0 in /usr/local/lib/python3.12/dist-packages (from tensorboard>=2.13.0->snorkel) (0.7.2)\n",
            "Requirement already satisfied: werkzeug>=1.0.1 in /usr/local/lib/python3.12/dist-packages (from tensorboard>=2.13.0->snorkel) (3.1.3)\n",
            "Requirement already satisfied: filelock in /usr/local/lib/python3.12/dist-packages (from torch>=1.2.0->snorkel) (3.20.0)\n",
            "Requirement already satisfied: typing-extensions>=4.10.0 in /usr/local/lib/python3.12/dist-packages (from torch>=1.2.0->snorkel) (4.15.0)\n",
            "Requirement already satisfied: sympy>=1.13.3 in /usr/local/lib/python3.12/dist-packages (from torch>=1.2.0->snorkel) (1.13.3)\n",
            "Requirement already satisfied: jinja2 in /usr/local/lib/python3.12/dist-packages (from torch>=1.2.0->snorkel) (3.1.6)\n",
            "Requirement already satisfied: fsspec in /usr/local/lib/python3.12/dist-packages (from torch>=1.2.0->snorkel) (2025.3.0)\n",
            "Requirement already satisfied: nvidia-cuda-nvrtc-cu12==12.6.77 in /usr/local/lib/python3.12/dist-packages (from torch>=1.2.0->snorkel) (12.6.77)\n",
            "Requirement already satisfied: nvidia-cuda-runtime-cu12==12.6.77 in /usr/local/lib/python3.12/dist-packages (from torch>=1.2.0->snorkel) (12.6.77)\n",
            "Requirement already satisfied: nvidia-cuda-cupti-cu12==12.6.80 in /usr/local/lib/python3.12/dist-packages (from torch>=1.2.0->snorkel) (12.6.80)\n",
            "Requirement already satisfied: nvidia-cudnn-cu12==9.10.2.21 in /usr/local/lib/python3.12/dist-packages (from torch>=1.2.0->snorkel) (9.10.2.21)\n",
            "Requirement already satisfied: nvidia-cublas-cu12==12.6.4.1 in /usr/local/lib/python3.12/dist-packages (from torch>=1.2.0->snorkel) (12.6.4.1)\n",
            "Requirement already satisfied: nvidia-cufft-cu12==11.3.0.4 in /usr/local/lib/python3.12/dist-packages (from torch>=1.2.0->snorkel) (11.3.0.4)\n",
            "Requirement already satisfied: nvidia-curand-cu12==10.3.7.77 in /usr/local/lib/python3.12/dist-packages (from torch>=1.2.0->snorkel) (10.3.7.77)\n",
            "Requirement already satisfied: nvidia-cusolver-cu12==11.7.1.2 in /usr/local/lib/python3.12/dist-packages (from torch>=1.2.0->snorkel) (11.7.1.2)\n",
            "Requirement already satisfied: nvidia-cusparse-cu12==12.5.4.2 in /usr/local/lib/python3.12/dist-packages (from torch>=1.2.0->snorkel) (12.5.4.2)\n",
            "Requirement already satisfied: nvidia-cusparselt-cu12==0.7.1 in /usr/local/lib/python3.12/dist-packages (from torch>=1.2.0->snorkel) (0.7.1)\n",
            "Requirement already satisfied: nvidia-nccl-cu12==2.27.3 in /usr/local/lib/python3.12/dist-packages (from torch>=1.2.0->snorkel) (2.27.3)\n",
            "Requirement already satisfied: nvidia-nvtx-cu12==12.6.77 in /usr/local/lib/python3.12/dist-packages (from torch>=1.2.0->snorkel) (12.6.77)\n",
            "Requirement already satisfied: nvidia-nvjitlink-cu12==12.6.85 in /usr/local/lib/python3.12/dist-packages (from torch>=1.2.0->snorkel) (12.6.85)\n",
            "Requirement already satisfied: nvidia-cufile-cu12==1.11.1.6 in /usr/local/lib/python3.12/dist-packages (from torch>=1.2.0->snorkel) (1.11.1.6)\n",
            "Requirement already satisfied: triton==3.4.0 in /usr/local/lib/python3.12/dist-packages (from torch>=1.2.0->snorkel) (3.4.0)\n",
            "Requirement already satisfied: mpmath<1.4,>=1.1.0 in /usr/local/lib/python3.12/dist-packages (from sympy>=1.13.3->torch>=1.2.0->snorkel) (1.3.0)\n",
            "Requirement already satisfied: MarkupSafe>=2.1.1 in /usr/local/lib/python3.12/dist-packages (from werkzeug>=1.0.1->tensorboard>=2.13.0->snorkel) (3.0.3)\n"
          ]
        }
      ]
    },
    {
      "cell_type": "code",
      "source": [
        "# ====================================================================\n",
        "# Q4: Sequential Training with W&B (CIFAR 10/100) (COMPLETED)\n",
        "# ====================================================================\n",
        "print(\"\\n--- Starting Q4: Sequential CIFAR Training ---\")\n",
        "\n",
        "device = torch.device(\"cuda\" if torch.cuda.is_available() else \"cpu\")\n",
        "EPOCHS_PER_STAGE = 100\n",
        "BATCH_SIZE = 128\n",
        "\n",
        "# Simple CNN Model\n",
        "class SimpleCNN(nn.Module):\n",
        "    def __init__(self, num_classes=10): # Corrected the spelling of __init__\n",
        "        super(SimpleCNN, self).__init__()\n",
        "        self.conv_stack = nn.Sequential(\n",
        "            nn.Conv2d(3, 32, kernel_size=3, padding=1), nn.ReLU(), nn.MaxPool2d(2, 2), # 32x16x16\n",
        "            nn.Conv2d(32, 64, kernel_size=3, padding=1), nn.ReLU(), nn.MaxPool2d(2, 2)  # 64x8x8\n",
        "        )\n",
        "        self.fc = nn.Linear(64 * 8 * 8, num_classes)\n",
        "\n",
        "    def forward(self, x):\n",
        "        x = self.conv_stack(x)\n",
        "        x = x.view(x.size(0), -1)\n",
        "        x = self.fc(x)\n",
        "        return x\n",
        "\n",
        "    def update_num_classes(self, new_num_classes):\n",
        "        in_features = self.fc.in_features\n",
        "        self.fc = nn.Linear(in_features, new_num_classes)\n",
        "        return self # Return self to allow chaining .to(device)\n",
        "\n",
        "# Data Transformations and Loading\n",
        "transform = transforms.Compose([\n",
        "    transforms.ToTensor(),\n",
        "    transforms.Normalize((0.5, 0.5, 0.5), (0.5, 0.5, 0.5))\n",
        "])\n",
        "trainloader_10 = torch.utils.data.DataLoader(\n",
        "    torchvision.datasets.CIFAR10(root='./data', train=True, download=True, transform=transform),\n",
        "    batch_size=BATCH_SIZE, shuffle=True\n",
        ")\n",
        "trainloader_100 = torch.utils.data.DataLoader(\n",
        "    torchvision.datasets.CIFAR100(root='./data', train=True, download=True, transform=transform),\n",
        "    batch_size=BATCH_SIZE, shuffle=True\n",
        ")\n",
        "\n",
        "# Training Function\n",
        "def train_model_stage(model, dataloader, criterion, optimizer, num_epochs, task_name, log_offset):\n",
        "    model.train()\n",
        "    for epoch in range(num_epochs):\n",
        "        running_loss = 0.0\n",
        "        correct = 0\n",
        "        total = 0\n",
        "\n",
        "        for images, labels in dataloader:\n",
        "            images, labels = images.to(device), labels.to(device)\n",
        "            optimizer.zero_grad()\n",
        "            outputs = model(images)\n",
        "            loss = criterion(outputs, labels)\n",
        "            loss.backward()\n",
        "            optimizer.step()\n",
        "\n",
        "            running_loss += loss.item()\n",
        "            _, predicted = torch.max(outputs.data, 1)\n",
        "            total += labels.size(0)\n",
        "            correct += (predicted == labels).sum().item()\n",
        "\n",
        "        epoch_loss = running_loss / len(dataloader)\n",
        "        epoch_acc = 100 * correct / total\n",
        "\n",
        "        wandb.log({\n",
        "            \"epoch\": epoch + 1 + log_offset,\n",
        "            f\"{task_name}_loss\": epoch_loss,\n",
        "            f\"{task_name}_accuracy\": epoch_acc,\n",
        "        })\n",
        "        print(f\"Epoch {epoch+1+log_offset} ({task_name}): Loss={epoch_loss:.4f}, Acc={epoch_acc:.2f}%\")\n",
        "    return model\n",
        "\n",
        "# --- Experiment (a): CIFAR 100 then CIFAR 10 ---\n",
        "wandb.init(project=\"Q4-cifar-experiments\", name=\"CIFAR100_then_10\")\n",
        "\n",
        "# Stage 1: C100 (100 classes)\n",
        "model_a = SimpleCNN(num_classes=100).to(device)\n",
        "criterion_a = nn.CrossEntropyLoss()\n",
        "optimizer_a = optim.Adam(model_a.parameters(), lr=0.001)\n",
        "\n",
        "model_a = train_model_stage(model_a, trainloader_100, criterion_a, optimizer_a,\n",
        "                            num_epochs=EPOCHS_PER_STAGE, task_name=\"C100_S1\", log_offset=0)\n",
        "\n",
        "# Stage 2: C10 (10 classes)\n",
        "model_a = model_a.update_num_classes(10).to(device)\n",
        "optimizer_a = optim.Adam(model_a.parameters(), lr=0.001) # Reset optimizer\n",
        "model_a = train_model_stage(model_a, trainloader_10, criterion_a, optimizer_a,\n",
        "                            num_epochs=EPOCHS_PER_STAGE, task_name=\"C10_S2\", log_offset=EPOCHS_PER_STAGE)\n",
        "\n",
        "wandb.finish()\n",
        "\n",
        "\n",
        "# --- Experiment (b): CIFAR 10 then CIFAR 100 ---\n",
        "wandb.init(project=\"Q4-cifar-experiments\", name=\"CIFAR10_then_100\")\n",
        "\n",
        "# Stage 1: C10 (10 classes)\n",
        "model_b = SimpleCNN(num_classes=10).to(device)\n",
        "criterion_b = nn.CrossEntropyLoss()\n",
        "optimizer_b = optim.Adam(model_b.parameters(), lr=0.001)\n",
        "\n",
        "model_b = train_model_stage(model_b, trainloader_10, criterion_b, optimizer_b,\n",
        "                            num_epochs=EPOCHS_PER_STAGE, task_name=\"C10_S1\", log_offset=0)\n",
        "\n",
        "# Stage 2: C100 (100 classes)\n",
        "model_b = model_b.update_num_classes(100).to(device)\n",
        "optimizer_b = optim.Adam(model_b.parameters(), lr=0.001) # Reset optimizer\n",
        "model_b = train_model_stage(model_b, trainloader_100, criterion_b, optimizer_b,\n",
        "                            num_epochs=EPOCHS_PER_STAGE, task_name=\"C100_S2\", log_offset=EPOCHS_PER_STAGE)\n",
        "\n",
        "wandb.finish()\n",
        "print(\"\\nQ4 finished. Two sequential runs logged to W&B.\")"
      ],
      "metadata": {
        "colab": {
          "base_uri": "https://localhost:8080/",
          "height": 1000
        },
        "id": "XhL0HGzM74Y1",
        "outputId": "80a0fea5-bd49-4adb-e439-dc9296100c4d"
      },
      "id": "XhL0HGzM74Y1",
      "execution_count": 4,
      "outputs": [
        {
          "output_type": "stream",
          "name": "stdout",
          "text": [
            "\n",
            "--- Starting Q4: Sequential CIFAR Training ---\n"
          ]
        },
        {
          "output_type": "display_data",
          "data": {
            "text/plain": [
              "<IPython.core.display.HTML object>"
            ],
            "text/html": [
              "Finishing previous runs because reinit is set to 'default'."
            ]
          },
          "metadata": {}
        },
        {
          "output_type": "display_data",
          "data": {
            "text/plain": [
              "<IPython.core.display.HTML object>"
            ],
            "text/html": []
          },
          "metadata": {}
        },
        {
          "output_type": "display_data",
          "data": {
            "text/plain": [
              "<IPython.core.display.HTML object>"
            ],
            "text/html": [
              " View run <strong style=\"color:#cdcd00\">CIFAR100_then_10</strong> at: <a href='https://wandb.ai/ir2023/Q4-cifar-experiments/runs/i013sqq8' target=\"_blank\">https://wandb.ai/ir2023/Q4-cifar-experiments/runs/i013sqq8</a><br> View project at: <a href='https://wandb.ai/ir2023/Q4-cifar-experiments' target=\"_blank\">https://wandb.ai/ir2023/Q4-cifar-experiments</a><br>Synced 5 W&B file(s), 0 media file(s), 0 artifact file(s) and 0 other file(s)"
            ]
          },
          "metadata": {}
        },
        {
          "output_type": "display_data",
          "data": {
            "text/plain": [
              "<IPython.core.display.HTML object>"
            ],
            "text/html": [
              "Find logs at: <code>./wandb/run-20251013_142138-i013sqq8/logs</code>"
            ]
          },
          "metadata": {}
        },
        {
          "output_type": "display_data",
          "data": {
            "text/plain": [
              "<IPython.core.display.HTML object>"
            ],
            "text/html": []
          },
          "metadata": {}
        },
        {
          "output_type": "display_data",
          "data": {
            "text/plain": [
              "<IPython.core.display.HTML object>"
            ],
            "text/html": [
              "Tracking run with wandb version 0.22.2"
            ]
          },
          "metadata": {}
        },
        {
          "output_type": "display_data",
          "data": {
            "text/plain": [
              "<IPython.core.display.HTML object>"
            ],
            "text/html": [
              "Run data is saved locally in <code>/content/wandb/run-20251013_142241-u4i07sp9</code>"
            ]
          },
          "metadata": {}
        },
        {
          "output_type": "display_data",
          "data": {
            "text/plain": [
              "<IPython.core.display.HTML object>"
            ],
            "text/html": [
              "Syncing run <strong><a href='https://wandb.ai/ir2023/Q4-cifar-experiments/runs/u4i07sp9' target=\"_blank\">CIFAR100_then_10</a></strong> to <a href='https://wandb.ai/ir2023/Q4-cifar-experiments' target=\"_blank\">Weights & Biases</a> (<a href='https://wandb.me/developer-guide' target=\"_blank\">docs</a>)<br>"
            ]
          },
          "metadata": {}
        },
        {
          "output_type": "display_data",
          "data": {
            "text/plain": [
              "<IPython.core.display.HTML object>"
            ],
            "text/html": [
              " View project at <a href='https://wandb.ai/ir2023/Q4-cifar-experiments' target=\"_blank\">https://wandb.ai/ir2023/Q4-cifar-experiments</a>"
            ]
          },
          "metadata": {}
        },
        {
          "output_type": "display_data",
          "data": {
            "text/plain": [
              "<IPython.core.display.HTML object>"
            ],
            "text/html": [
              " View run at <a href='https://wandb.ai/ir2023/Q4-cifar-experiments/runs/u4i07sp9' target=\"_blank\">https://wandb.ai/ir2023/Q4-cifar-experiments/runs/u4i07sp9</a>"
            ]
          },
          "metadata": {}
        },
        {
          "output_type": "stream",
          "name": "stdout",
          "text": [
            "Epoch 1 (C100_S1): Loss=3.3902, Acc=21.11%\n",
            "Epoch 2 (C100_S1): Loss=2.6052, Acc=35.81%\n",
            "Epoch 3 (C100_S1): Loss=2.2242, Acc=43.97%\n",
            "Epoch 4 (C100_S1): Loss=1.9383, Acc=50.42%\n",
            "Epoch 5 (C100_S1): Loss=1.6843, Acc=56.04%\n",
            "Epoch 6 (C100_S1): Loss=1.4660, Acc=61.35%\n",
            "Epoch 7 (C100_S1): Loss=1.2581, Acc=66.22%\n",
            "Epoch 8 (C100_S1): Loss=1.0673, Acc=71.22%\n",
            "Epoch 9 (C100_S1): Loss=0.9034, Acc=75.45%\n",
            "Epoch 10 (C100_S1): Loss=0.7631, Acc=79.17%\n",
            "Epoch 11 (C100_S1): Loss=0.6359, Acc=82.29%\n",
            "Epoch 12 (C100_S1): Loss=0.5241, Acc=85.47%\n",
            "Epoch 13 (C100_S1): Loss=0.4313, Acc=87.98%\n",
            "Epoch 14 (C100_S1): Loss=0.3443, Acc=90.48%\n",
            "Epoch 15 (C100_S1): Loss=0.2842, Acc=92.19%\n",
            "Epoch 16 (C100_S1): Loss=0.2364, Acc=93.50%\n",
            "Epoch 17 (C100_S1): Loss=0.2016, Acc=94.31%\n",
            "Epoch 18 (C100_S1): Loss=0.1861, Acc=94.65%\n",
            "Epoch 19 (C100_S1): Loss=0.1645, Acc=95.22%\n",
            "Epoch 20 (C100_S1): Loss=0.1379, Acc=96.13%\n",
            "Epoch 21 (C100_S1): Loss=0.1303, Acc=96.30%\n",
            "Epoch 22 (C100_S1): Loss=0.1160, Acc=96.69%\n",
            "Epoch 23 (C100_S1): Loss=0.1122, Acc=96.73%\n",
            "Epoch 24 (C100_S1): Loss=0.1062, Acc=96.98%\n",
            "Epoch 25 (C100_S1): Loss=0.1022, Acc=96.90%\n",
            "Epoch 26 (C100_S1): Loss=0.1019, Acc=96.93%\n",
            "Epoch 27 (C100_S1): Loss=0.1006, Acc=96.97%\n",
            "Epoch 28 (C100_S1): Loss=0.0886, Acc=97.34%\n",
            "Epoch 29 (C100_S1): Loss=0.0814, Acc=97.56%\n",
            "Epoch 30 (C100_S1): Loss=0.0786, Acc=97.61%\n",
            "Epoch 31 (C100_S1): Loss=0.0903, Acc=97.17%\n",
            "Epoch 32 (C100_S1): Loss=0.0869, Acc=97.24%\n",
            "Epoch 33 (C100_S1): Loss=0.0625, Acc=98.10%\n",
            "Epoch 34 (C100_S1): Loss=0.0607, Acc=98.19%\n",
            "Epoch 35 (C100_S1): Loss=0.0761, Acc=97.62%\n",
            "Epoch 36 (C100_S1): Loss=0.0892, Acc=97.16%\n",
            "Epoch 37 (C100_S1): Loss=0.0700, Acc=97.89%\n",
            "Epoch 38 (C100_S1): Loss=0.0572, Acc=98.30%\n",
            "Epoch 39 (C100_S1): Loss=0.0539, Acc=98.44%\n",
            "Epoch 40 (C100_S1): Loss=0.0640, Acc=98.08%\n",
            "Epoch 41 (C100_S1): Loss=0.0676, Acc=97.91%\n",
            "Epoch 42 (C100_S1): Loss=0.0867, Acc=97.27%\n",
            "Epoch 43 (C100_S1): Loss=0.0684, Acc=97.88%\n",
            "Epoch 44 (C100_S1): Loss=0.0577, Acc=98.22%\n",
            "Epoch 45 (C100_S1): Loss=0.0514, Acc=98.42%\n",
            "Epoch 46 (C100_S1): Loss=0.0409, Acc=98.84%\n",
            "Epoch 47 (C100_S1): Loss=0.0483, Acc=98.53%\n",
            "Epoch 48 (C100_S1): Loss=0.0589, Acc=98.24%\n",
            "Epoch 49 (C100_S1): Loss=0.0629, Acc=98.08%\n",
            "Epoch 50 (C100_S1): Loss=0.0758, Acc=97.61%\n",
            "Epoch 51 (C100_S1): Loss=0.0554, Acc=98.30%\n",
            "Epoch 52 (C100_S1): Loss=0.0377, Acc=98.92%\n",
            "Epoch 53 (C100_S1): Loss=0.0283, Acc=99.21%\n",
            "Epoch 54 (C100_S1): Loss=0.0443, Acc=98.73%\n",
            "Epoch 55 (C100_S1): Loss=0.0741, Acc=97.68%\n",
            "Epoch 56 (C100_S1): Loss=0.0741, Acc=97.68%\n",
            "Epoch 57 (C100_S1): Loss=0.0520, Acc=98.45%\n",
            "Epoch 58 (C100_S1): Loss=0.0431, Acc=98.72%\n",
            "Epoch 59 (C100_S1): Loss=0.0329, Acc=99.09%\n",
            "Epoch 60 (C100_S1): Loss=0.0310, Acc=99.15%\n",
            "Epoch 61 (C100_S1): Loss=0.0329, Acc=99.04%\n",
            "Epoch 62 (C100_S1): Loss=0.0491, Acc=98.52%\n",
            "Epoch 63 (C100_S1): Loss=0.0615, Acc=98.09%\n",
            "Epoch 64 (C100_S1): Loss=0.0633, Acc=97.97%\n",
            "Epoch 65 (C100_S1): Loss=0.0532, Acc=98.40%\n",
            "Epoch 66 (C100_S1): Loss=0.0310, Acc=99.11%\n",
            "Epoch 67 (C100_S1): Loss=0.0239, Acc=99.37%\n",
            "Epoch 68 (C100_S1): Loss=0.0293, Acc=99.19%\n",
            "Epoch 69 (C100_S1): Loss=0.0566, Acc=98.28%\n",
            "Epoch 70 (C100_S1): Loss=0.0606, Acc=98.16%\n",
            "Epoch 71 (C100_S1): Loss=0.0452, Acc=98.59%\n",
            "Epoch 72 (C100_S1): Loss=0.0371, Acc=98.87%\n",
            "Epoch 73 (C100_S1): Loss=0.0376, Acc=98.91%\n",
            "Epoch 74 (C100_S1): Loss=0.0380, Acc=98.83%\n",
            "Epoch 75 (C100_S1): Loss=0.0341, Acc=98.96%\n",
            "Epoch 76 (C100_S1): Loss=0.0335, Acc=99.03%\n",
            "Epoch 77 (C100_S1): Loss=0.0453, Acc=98.69%\n",
            "Epoch 78 (C100_S1): Loss=0.0410, Acc=98.74%\n",
            "Epoch 79 (C100_S1): Loss=0.0503, Acc=98.55%\n",
            "Epoch 80 (C100_S1): Loss=0.0451, Acc=98.66%\n",
            "Epoch 81 (C100_S1): Loss=0.0395, Acc=98.83%\n",
            "Epoch 82 (C100_S1): Loss=0.0319, Acc=99.08%\n",
            "Epoch 83 (C100_S1): Loss=0.0254, Acc=99.32%\n",
            "Epoch 84 (C100_S1): Loss=0.0344, Acc=98.98%\n",
            "Epoch 85 (C100_S1): Loss=0.0462, Acc=98.64%\n",
            "Epoch 86 (C100_S1): Loss=0.0407, Acc=98.76%\n",
            "Epoch 87 (C100_S1): Loss=0.0333, Acc=99.00%\n",
            "Epoch 88 (C100_S1): Loss=0.0283, Acc=99.19%\n",
            "Epoch 89 (C100_S1): Loss=0.0258, Acc=99.25%\n",
            "Epoch 90 (C100_S1): Loss=0.0316, Acc=99.13%\n",
            "Epoch 91 (C100_S1): Loss=0.0395, Acc=98.83%\n",
            "Epoch 92 (C100_S1): Loss=0.0458, Acc=98.60%\n",
            "Epoch 93 (C100_S1): Loss=0.0381, Acc=98.84%\n",
            "Epoch 94 (C100_S1): Loss=0.0346, Acc=98.92%\n",
            "Epoch 95 (C100_S1): Loss=0.0316, Acc=99.10%\n",
            "Epoch 96 (C100_S1): Loss=0.0318, Acc=99.04%\n",
            "Epoch 97 (C100_S1): Loss=0.0278, Acc=99.19%\n",
            "Epoch 98 (C100_S1): Loss=0.0330, Acc=99.03%\n",
            "Epoch 99 (C100_S1): Loss=0.0414, Acc=98.77%\n",
            "Epoch 100 (C100_S1): Loss=0.0395, Acc=98.88%\n",
            "Epoch 101 (C10_S2): Loss=1.0536, Acc=63.67%\n",
            "Epoch 102 (C10_S2): Loss=0.7841, Acc=72.94%\n",
            "Epoch 103 (C10_S2): Loss=0.6919, Acc=76.16%\n",
            "Epoch 104 (C10_S2): Loss=0.6348, Acc=78.07%\n",
            "Epoch 105 (C10_S2): Loss=0.5934, Acc=79.56%\n",
            "Epoch 106 (C10_S2): Loss=0.5566, Acc=80.48%\n",
            "Epoch 107 (C10_S2): Loss=0.5208, Acc=81.96%\n",
            "Epoch 108 (C10_S2): Loss=0.4978, Acc=82.57%\n",
            "Epoch 109 (C10_S2): Loss=0.4731, Acc=83.57%\n",
            "Epoch 110 (C10_S2): Loss=0.4514, Acc=84.37%\n",
            "Epoch 111 (C10_S2): Loss=0.4338, Acc=84.82%\n",
            "Epoch 112 (C10_S2): Loss=0.4136, Acc=85.52%\n",
            "Epoch 113 (C10_S2): Loss=0.4004, Acc=86.04%\n",
            "Epoch 114 (C10_S2): Loss=0.3859, Acc=86.30%\n",
            "Epoch 115 (C10_S2): Loss=0.3678, Acc=87.17%\n",
            "Epoch 116 (C10_S2): Loss=0.3541, Acc=87.50%\n",
            "Epoch 117 (C10_S2): Loss=0.3406, Acc=87.88%\n",
            "Epoch 118 (C10_S2): Loss=0.3318, Acc=88.26%\n",
            "Epoch 119 (C10_S2): Loss=0.3193, Acc=88.68%\n",
            "Epoch 120 (C10_S2): Loss=0.3067, Acc=89.19%\n",
            "Epoch 121 (C10_S2): Loss=0.2982, Acc=89.59%\n",
            "Epoch 122 (C10_S2): Loss=0.2877, Acc=89.85%\n",
            "Epoch 123 (C10_S2): Loss=0.2781, Acc=90.30%\n",
            "Epoch 124 (C10_S2): Loss=0.2654, Acc=90.74%\n",
            "Epoch 125 (C10_S2): Loss=0.2586, Acc=91.04%\n",
            "Epoch 126 (C10_S2): Loss=0.2503, Acc=91.22%\n",
            "Epoch 127 (C10_S2): Loss=0.2457, Acc=91.31%\n",
            "Epoch 128 (C10_S2): Loss=0.2328, Acc=91.87%\n",
            "Epoch 129 (C10_S2): Loss=0.2253, Acc=92.07%\n",
            "Epoch 130 (C10_S2): Loss=0.2206, Acc=92.28%\n",
            "Epoch 131 (C10_S2): Loss=0.2123, Acc=92.62%\n",
            "Epoch 132 (C10_S2): Loss=0.2058, Acc=92.66%\n",
            "Epoch 133 (C10_S2): Loss=0.1981, Acc=93.05%\n",
            "Epoch 134 (C10_S2): Loss=0.1910, Acc=93.33%\n",
            "Epoch 135 (C10_S2): Loss=0.1853, Acc=93.50%\n",
            "Epoch 136 (C10_S2): Loss=0.1765, Acc=93.82%\n",
            "Epoch 137 (C10_S2): Loss=0.1758, Acc=93.89%\n",
            "Epoch 138 (C10_S2): Loss=0.1683, Acc=94.11%\n",
            "Epoch 139 (C10_S2): Loss=0.1615, Acc=94.34%\n",
            "Epoch 140 (C10_S2): Loss=0.1535, Acc=94.70%\n",
            "Epoch 141 (C10_S2): Loss=0.1507, Acc=94.74%\n",
            "Epoch 142 (C10_S2): Loss=0.1496, Acc=94.71%\n",
            "Epoch 143 (C10_S2): Loss=0.1444, Acc=94.90%\n",
            "Epoch 144 (C10_S2): Loss=0.1370, Acc=95.19%\n",
            "Epoch 145 (C10_S2): Loss=0.1297, Acc=95.47%\n",
            "Epoch 146 (C10_S2): Loss=0.1252, Acc=95.80%\n",
            "Epoch 147 (C10_S2): Loss=0.1191, Acc=96.01%\n",
            "Epoch 148 (C10_S2): Loss=0.1178, Acc=95.94%\n",
            "Epoch 149 (C10_S2): Loss=0.1214, Acc=95.71%\n",
            "Epoch 150 (C10_S2): Loss=0.1206, Acc=95.71%\n",
            "Epoch 151 (C10_S2): Loss=0.1102, Acc=96.17%\n",
            "Epoch 152 (C10_S2): Loss=0.1023, Acc=96.53%\n",
            "Epoch 153 (C10_S2): Loss=0.0998, Acc=96.58%\n",
            "Epoch 154 (C10_S2): Loss=0.1033, Acc=96.43%\n",
            "Epoch 155 (C10_S2): Loss=0.0933, Acc=96.86%\n",
            "Epoch 156 (C10_S2): Loss=0.0954, Acc=96.66%\n",
            "Epoch 157 (C10_S2): Loss=0.0906, Acc=96.93%\n",
            "Epoch 158 (C10_S2): Loss=0.0913, Acc=96.76%\n",
            "Epoch 159 (C10_S2): Loss=0.0836, Acc=97.13%\n",
            "Epoch 160 (C10_S2): Loss=0.0847, Acc=97.12%\n",
            "Epoch 161 (C10_S2): Loss=0.0815, Acc=97.25%\n",
            "Epoch 162 (C10_S2): Loss=0.0827, Acc=97.04%\n",
            "Epoch 163 (C10_S2): Loss=0.0805, Acc=97.27%\n",
            "Epoch 164 (C10_S2): Loss=0.0711, Acc=97.62%\n",
            "Epoch 165 (C10_S2): Loss=0.0703, Acc=97.76%\n",
            "Epoch 166 (C10_S2): Loss=0.0750, Acc=97.43%\n",
            "Epoch 167 (C10_S2): Loss=0.0760, Acc=97.37%\n",
            "Epoch 168 (C10_S2): Loss=0.0703, Acc=97.56%\n",
            "Epoch 169 (C10_S2): Loss=0.0650, Acc=97.90%\n",
            "Epoch 170 (C10_S2): Loss=0.0605, Acc=98.00%\n",
            "Epoch 171 (C10_S2): Loss=0.0606, Acc=97.99%\n",
            "Epoch 172 (C10_S2): Loss=0.0699, Acc=97.55%\n",
            "Epoch 173 (C10_S2): Loss=0.0759, Acc=97.24%\n",
            "Epoch 174 (C10_S2): Loss=0.0666, Acc=97.68%\n",
            "Epoch 175 (C10_S2): Loss=0.0553, Acc=98.13%\n",
            "Epoch 176 (C10_S2): Loss=0.0489, Acc=98.42%\n",
            "Epoch 177 (C10_S2): Loss=0.0522, Acc=98.22%\n",
            "Epoch 178 (C10_S2): Loss=0.0510, Acc=98.32%\n",
            "Epoch 179 (C10_S2): Loss=0.0631, Acc=97.78%\n",
            "Epoch 180 (C10_S2): Loss=0.0751, Acc=97.27%\n",
            "Epoch 181 (C10_S2): Loss=0.0566, Acc=98.05%\n",
            "Epoch 182 (C10_S2): Loss=0.0456, Acc=98.53%\n",
            "Epoch 183 (C10_S2): Loss=0.0350, Acc=98.96%\n",
            "Epoch 184 (C10_S2): Loss=0.0425, Acc=98.61%\n",
            "Epoch 185 (C10_S2): Loss=0.0705, Acc=97.44%\n",
            "Epoch 186 (C10_S2): Loss=0.0647, Acc=97.61%\n",
            "Epoch 187 (C10_S2): Loss=0.0495, Acc=98.30%\n",
            "Epoch 188 (C10_S2): Loss=0.0506, Acc=98.21%\n",
            "Epoch 189 (C10_S2): Loss=0.0463, Acc=98.39%\n",
            "Epoch 190 (C10_S2): Loss=0.0400, Acc=98.69%\n",
            "Epoch 191 (C10_S2): Loss=0.0434, Acc=98.51%\n",
            "Epoch 192 (C10_S2): Loss=0.0656, Acc=97.57%\n",
            "Epoch 193 (C10_S2): Loss=0.0514, Acc=98.19%\n",
            "Epoch 194 (C10_S2): Loss=0.0332, Acc=98.93%\n",
            "Epoch 195 (C10_S2): Loss=0.0284, Acc=99.16%\n",
            "Epoch 196 (C10_S2): Loss=0.0322, Acc=98.97%\n",
            "Epoch 197 (C10_S2): Loss=0.0726, Acc=97.35%\n",
            "Epoch 198 (C10_S2): Loss=0.0547, Acc=98.05%\n",
            "Epoch 199 (C10_S2): Loss=0.0399, Acc=98.67%\n",
            "Epoch 200 (C10_S2): Loss=0.0331, Acc=98.93%\n"
          ]
        },
        {
          "output_type": "display_data",
          "data": {
            "text/plain": [
              "<IPython.core.display.HTML object>"
            ],
            "text/html": []
          },
          "metadata": {}
        },
        {
          "output_type": "display_data",
          "data": {
            "text/plain": [
              "<IPython.core.display.HTML object>"
            ],
            "text/html": [
              "<br>    <style><br>        .wandb-row {<br>            display: flex;<br>            flex-direction: row;<br>            flex-wrap: wrap;<br>            justify-content: flex-start;<br>            width: 100%;<br>        }<br>        .wandb-col {<br>            display: flex;<br>            flex-direction: column;<br>            flex-basis: 100%;<br>            flex: 1;<br>            padding: 10px;<br>        }<br>    </style><br><div class=\"wandb-row\"><div class=\"wandb-col\"><h3>Run history:</h3><br/><table class=\"wandb\"><tr><td>C100_S1_accuracy</td><td>▁▅▅▆▇▇▇█████████████████████████████████</td></tr><tr><td>C100_S1_loss</td><td>█▆▄▃▃▂▁▁▁▁▁▁▁▁▁▁▁▁▁▁▁▁▁▁▁▁▁▁▁▁▁▁▁▁▁▁▁▁▁▁</td></tr><tr><td>C10_S2_accuracy</td><td>▁▃▃▄▄▅▅▅▅▆▆▆▆▆▇▇▇▇▇▇▇▇▇▇████████████████</td></tr><tr><td>C10_S2_loss</td><td>█▅▅▄▄▃▃▃▃▃▂▂▂▂▂▂▂▂▂▂▂▂▁▁▁▁▁▁▁▁▁▁▁▁▁▁▁▁▁▁</td></tr><tr><td>epoch</td><td>▁▁▁▁▁▂▂▂▂▂▃▃▃▃▃▃▃▃▃▄▄▄▄▅▅▅▅▆▆▆▆▆▇▇▇▇▇███</td></tr></table><br/></div><div class=\"wandb-col\"><h3>Run summary:</h3><br/><table class=\"wandb\"><tr><td>C100_S1_accuracy</td><td>98.884</td></tr><tr><td>C100_S1_loss</td><td>0.03954</td></tr><tr><td>C10_S2_accuracy</td><td>98.932</td></tr><tr><td>C10_S2_loss</td><td>0.03312</td></tr><tr><td>epoch</td><td>200</td></tr></table><br/></div></div>"
            ]
          },
          "metadata": {}
        },
        {
          "output_type": "display_data",
          "data": {
            "text/plain": [
              "<IPython.core.display.HTML object>"
            ],
            "text/html": [
              " View run <strong style=\"color:#cdcd00\">CIFAR100_then_10</strong> at: <a href='https://wandb.ai/ir2023/Q4-cifar-experiments/runs/u4i07sp9' target=\"_blank\">https://wandb.ai/ir2023/Q4-cifar-experiments/runs/u4i07sp9</a><br> View project at: <a href='https://wandb.ai/ir2023/Q4-cifar-experiments' target=\"_blank\">https://wandb.ai/ir2023/Q4-cifar-experiments</a><br>Synced 5 W&B file(s), 0 media file(s), 0 artifact file(s) and 0 other file(s)"
            ]
          },
          "metadata": {}
        },
        {
          "output_type": "display_data",
          "data": {
            "text/plain": [
              "<IPython.core.display.HTML object>"
            ],
            "text/html": [
              "Find logs at: <code>./wandb/run-20251013_142241-u4i07sp9/logs</code>"
            ]
          },
          "metadata": {}
        },
        {
          "output_type": "display_data",
          "data": {
            "text/plain": [
              "<IPython.core.display.HTML object>"
            ],
            "text/html": []
          },
          "metadata": {}
        },
        {
          "output_type": "display_data",
          "data": {
            "text/plain": [
              "<IPython.core.display.HTML object>"
            ],
            "text/html": [
              "Tracking run with wandb version 0.22.2"
            ]
          },
          "metadata": {}
        },
        {
          "output_type": "display_data",
          "data": {
            "text/plain": [
              "<IPython.core.display.HTML object>"
            ],
            "text/html": [
              "Run data is saved locally in <code>/content/wandb/run-20251013_150932-nm57108q</code>"
            ]
          },
          "metadata": {}
        },
        {
          "output_type": "display_data",
          "data": {
            "text/plain": [
              "<IPython.core.display.HTML object>"
            ],
            "text/html": [
              "Syncing run <strong><a href='https://wandb.ai/ir2023/Q4-cifar-experiments/runs/nm57108q' target=\"_blank\">CIFAR10_then_100</a></strong> to <a href='https://wandb.ai/ir2023/Q4-cifar-experiments' target=\"_blank\">Weights & Biases</a> (<a href='https://wandb.me/developer-guide' target=\"_blank\">docs</a>)<br>"
            ]
          },
          "metadata": {}
        },
        {
          "output_type": "display_data",
          "data": {
            "text/plain": [
              "<IPython.core.display.HTML object>"
            ],
            "text/html": [
              " View project at <a href='https://wandb.ai/ir2023/Q4-cifar-experiments' target=\"_blank\">https://wandb.ai/ir2023/Q4-cifar-experiments</a>"
            ]
          },
          "metadata": {}
        },
        {
          "output_type": "display_data",
          "data": {
            "text/plain": [
              "<IPython.core.display.HTML object>"
            ],
            "text/html": [
              " View run at <a href='https://wandb.ai/ir2023/Q4-cifar-experiments/runs/nm57108q' target=\"_blank\">https://wandb.ai/ir2023/Q4-cifar-experiments/runs/nm57108q</a>"
            ]
          },
          "metadata": {}
        },
        {
          "output_type": "stream",
          "name": "stdout",
          "text": [
            "Epoch 1 (C10_S1): Loss=1.4351, Acc=49.32%\n",
            "Epoch 2 (C10_S1): Loss=1.0912, Acc=62.15%\n",
            "Epoch 3 (C10_S1): Loss=0.9557, Acc=66.95%\n",
            "Epoch 4 (C10_S1): Loss=0.8687, Acc=70.09%\n",
            "Epoch 5 (C10_S1): Loss=0.8034, Acc=72.44%\n",
            "Epoch 6 (C10_S1): Loss=0.7528, Acc=74.22%\n",
            "Epoch 7 (C10_S1): Loss=0.7086, Acc=75.63%\n",
            "Epoch 8 (C10_S1): Loss=0.6712, Acc=77.01%\n",
            "Epoch 9 (C10_S1): Loss=0.6363, Acc=78.16%\n",
            "Epoch 10 (C10_S1): Loss=0.6033, Acc=79.36%\n",
            "Epoch 11 (C10_S1): Loss=0.5763, Acc=80.37%\n",
            "Epoch 12 (C10_S1): Loss=0.5502, Acc=81.12%\n",
            "Epoch 13 (C10_S1): Loss=0.5198, Acc=82.35%\n",
            "Epoch 14 (C10_S1): Loss=0.5024, Acc=82.69%\n",
            "Epoch 15 (C10_S1): Loss=0.4802, Acc=83.61%\n",
            "Epoch 16 (C10_S1): Loss=0.4617, Acc=84.13%\n",
            "Epoch 17 (C10_S1): Loss=0.4410, Acc=84.95%\n",
            "Epoch 18 (C10_S1): Loss=0.4274, Acc=85.30%\n",
            "Epoch 19 (C10_S1): Loss=0.4020, Acc=86.31%\n",
            "Epoch 20 (C10_S1): Loss=0.3938, Acc=86.52%\n",
            "Epoch 21 (C10_S1): Loss=0.3794, Acc=86.94%\n",
            "Epoch 22 (C10_S1): Loss=0.3658, Acc=87.44%\n",
            "Epoch 23 (C10_S1): Loss=0.3496, Acc=88.09%\n",
            "Epoch 24 (C10_S1): Loss=0.3325, Acc=88.58%\n",
            "Epoch 25 (C10_S1): Loss=0.3186, Acc=89.09%\n",
            "Epoch 26 (C10_S1): Loss=0.3111, Acc=89.27%\n",
            "Epoch 27 (C10_S1): Loss=0.2950, Acc=89.91%\n",
            "Epoch 28 (C10_S1): Loss=0.2872, Acc=90.01%\n",
            "Epoch 29 (C10_S1): Loss=0.2766, Acc=90.53%\n",
            "Epoch 30 (C10_S1): Loss=0.2649, Acc=90.82%\n",
            "Epoch 31 (C10_S1): Loss=0.2525, Acc=91.33%\n",
            "Epoch 32 (C10_S1): Loss=0.2467, Acc=91.64%\n",
            "Epoch 33 (C10_S1): Loss=0.2385, Acc=91.71%\n",
            "Epoch 34 (C10_S1): Loss=0.2217, Acc=92.43%\n",
            "Epoch 35 (C10_S1): Loss=0.2196, Acc=92.50%\n",
            "Epoch 36 (C10_S1): Loss=0.2139, Acc=92.61%\n",
            "Epoch 37 (C10_S1): Loss=0.2019, Acc=93.06%\n",
            "Epoch 38 (C10_S1): Loss=0.1934, Acc=93.44%\n",
            "Epoch 39 (C10_S1): Loss=0.1884, Acc=93.48%\n",
            "Epoch 40 (C10_S1): Loss=0.1824, Acc=93.63%\n",
            "Epoch 41 (C10_S1): Loss=0.1732, Acc=94.09%\n",
            "Epoch 42 (C10_S1): Loss=0.1676, Acc=94.27%\n",
            "Epoch 43 (C10_S1): Loss=0.1587, Acc=94.53%\n",
            "Epoch 44 (C10_S1): Loss=0.1520, Acc=94.88%\n",
            "Epoch 45 (C10_S1): Loss=0.1509, Acc=94.73%\n",
            "Epoch 46 (C10_S1): Loss=0.1468, Acc=94.96%\n",
            "Epoch 47 (C10_S1): Loss=0.1439, Acc=95.02%\n",
            "Epoch 48 (C10_S1): Loss=0.1361, Acc=95.31%\n",
            "Epoch 49 (C10_S1): Loss=0.1279, Acc=95.60%\n",
            "Epoch 50 (C10_S1): Loss=0.1237, Acc=95.85%\n",
            "Epoch 51 (C10_S1): Loss=0.1235, Acc=95.89%\n",
            "Epoch 52 (C10_S1): Loss=0.1271, Acc=95.51%\n",
            "Epoch 53 (C10_S1): Loss=0.1083, Acc=96.41%\n",
            "Epoch 54 (C10_S1): Loss=0.1010, Acc=96.67%\n",
            "Epoch 55 (C10_S1): Loss=0.1070, Acc=96.31%\n",
            "Epoch 56 (C10_S1): Loss=0.1162, Acc=95.88%\n",
            "Epoch 57 (C10_S1): Loss=0.1020, Acc=96.52%\n",
            "Epoch 58 (C10_S1): Loss=0.0956, Acc=96.82%\n",
            "Epoch 59 (C10_S1): Loss=0.0910, Acc=97.03%\n",
            "Epoch 60 (C10_S1): Loss=0.0907, Acc=96.87%\n",
            "Epoch 61 (C10_S1): Loss=0.0858, Acc=97.07%\n",
            "Epoch 62 (C10_S1): Loss=0.0857, Acc=97.04%\n",
            "Epoch 63 (C10_S1): Loss=0.0920, Acc=96.75%\n",
            "Epoch 64 (C10_S1): Loss=0.0782, Acc=97.41%\n",
            "Epoch 65 (C10_S1): Loss=0.0760, Acc=97.54%\n",
            "Epoch 66 (C10_S1): Loss=0.0764, Acc=97.45%\n",
            "Epoch 67 (C10_S1): Loss=0.0830, Acc=97.14%\n",
            "Epoch 68 (C10_S1): Loss=0.0743, Acc=97.49%\n",
            "Epoch 69 (C10_S1): Loss=0.0622, Acc=97.99%\n",
            "Epoch 70 (C10_S1): Loss=0.0658, Acc=97.77%\n",
            "Epoch 71 (C10_S1): Loss=0.0654, Acc=97.79%\n",
            "Epoch 72 (C10_S1): Loss=0.0689, Acc=97.63%\n",
            "Epoch 73 (C10_S1): Loss=0.0707, Acc=97.52%\n",
            "Epoch 74 (C10_S1): Loss=0.0714, Acc=97.46%\n",
            "Epoch 75 (C10_S1): Loss=0.0630, Acc=97.90%\n",
            "Epoch 76 (C10_S1): Loss=0.0471, Acc=98.56%\n",
            "Epoch 77 (C10_S1): Loss=0.0635, Acc=97.82%\n",
            "Epoch 78 (C10_S1): Loss=0.0741, Acc=97.43%\n",
            "Epoch 79 (C10_S1): Loss=0.0503, Acc=98.34%\n",
            "Epoch 80 (C10_S1): Loss=0.0502, Acc=98.33%\n",
            "Epoch 81 (C10_S1): Loss=0.0566, Acc=98.13%\n",
            "Epoch 82 (C10_S1): Loss=0.0755, Acc=97.35%\n",
            "Epoch 83 (C10_S1): Loss=0.0611, Acc=97.89%\n",
            "Epoch 84 (C10_S1): Loss=0.0500, Acc=98.26%\n",
            "Epoch 85 (C10_S1): Loss=0.0355, Acc=98.91%\n",
            "Epoch 86 (C10_S1): Loss=0.0486, Acc=98.37%\n",
            "Epoch 87 (C10_S1): Loss=0.0599, Acc=97.94%\n",
            "Epoch 88 (C10_S1): Loss=0.0715, Acc=97.48%\n",
            "Epoch 89 (C10_S1): Loss=0.0617, Acc=97.83%\n",
            "Epoch 90 (C10_S1): Loss=0.0401, Acc=98.72%\n",
            "Epoch 91 (C10_S1): Loss=0.0329, Acc=99.04%\n",
            "Epoch 92 (C10_S1): Loss=0.0325, Acc=98.93%\n",
            "Epoch 93 (C10_S1): Loss=0.0868, Acc=97.00%\n",
            "Epoch 94 (C10_S1): Loss=0.0575, Acc=97.96%\n",
            "Epoch 95 (C10_S1): Loss=0.0407, Acc=98.63%\n",
            "Epoch 96 (C10_S1): Loss=0.0314, Acc=99.03%\n",
            "Epoch 97 (C10_S1): Loss=0.0638, Acc=97.74%\n",
            "Epoch 98 (C10_S1): Loss=0.0624, Acc=97.73%\n",
            "Epoch 99 (C10_S1): Loss=0.0365, Acc=98.75%\n",
            "Epoch 100 (C10_S1): Loss=0.0224, Acc=99.39%\n",
            "Epoch 101 (C100_S2): Loss=2.7242, Acc=34.39%\n",
            "Epoch 102 (C100_S2): Loss=1.5998, Acc=58.33%\n",
            "Epoch 103 (C100_S2): Loss=1.1023, Acc=70.48%\n",
            "Epoch 104 (C100_S2): Loss=0.7496, Acc=79.96%\n",
            "Epoch 105 (C100_S2): Loss=0.5184, Acc=86.16%\n",
            "Epoch 106 (C100_S2): Loss=0.3593, Acc=90.55%\n",
            "Epoch 107 (C100_S2): Loss=0.2565, Acc=93.44%\n",
            "Epoch 108 (C100_S2): Loss=0.1873, Acc=95.44%\n",
            "Epoch 109 (C100_S2): Loss=0.1549, Acc=96.21%\n",
            "Epoch 110 (C100_S2): Loss=0.1330, Acc=96.76%\n",
            "Epoch 111 (C100_S2): Loss=0.1299, Acc=96.60%\n",
            "Epoch 112 (C100_S2): Loss=0.1278, Acc=96.60%\n",
            "Epoch 113 (C100_S2): Loss=0.1138, Acc=96.87%\n",
            "Epoch 114 (C100_S2): Loss=0.0923, Acc=97.52%\n",
            "Epoch 115 (C100_S2): Loss=0.0933, Acc=97.44%\n",
            "Epoch 116 (C100_S2): Loss=0.0810, Acc=97.83%\n",
            "Epoch 117 (C100_S2): Loss=0.0759, Acc=98.00%\n",
            "Epoch 118 (C100_S2): Loss=0.0622, Acc=98.33%\n",
            "Epoch 119 (C100_S2): Loss=0.0785, Acc=97.76%\n",
            "Epoch 120 (C100_S2): Loss=0.0934, Acc=97.20%\n",
            "Epoch 121 (C100_S2): Loss=0.0942, Acc=97.11%\n",
            "Epoch 122 (C100_S2): Loss=0.0653, Acc=98.03%\n",
            "Epoch 123 (C100_S2): Loss=0.0518, Acc=98.57%\n",
            "Epoch 124 (C100_S2): Loss=0.0367, Acc=99.18%\n",
            "Epoch 125 (C100_S2): Loss=0.0275, Acc=99.46%\n",
            "Epoch 126 (C100_S2): Loss=0.0388, Acc=99.08%\n",
            "Epoch 127 (C100_S2): Loss=0.0869, Acc=97.38%\n",
            "Epoch 128 (C100_S2): Loss=0.1181, Acc=96.22%\n",
            "Epoch 129 (C100_S2): Loss=0.0704, Acc=97.88%\n",
            "Epoch 130 (C100_S2): Loss=0.0392, Acc=98.93%\n",
            "Epoch 131 (C100_S2): Loss=0.0241, Acc=99.44%\n",
            "Epoch 132 (C100_S2): Loss=0.0169, Acc=99.68%\n",
            "Epoch 133 (C100_S2): Loss=0.0275, Acc=99.29%\n",
            "Epoch 134 (C100_S2): Loss=0.0575, Acc=98.31%\n",
            "Epoch 135 (C100_S2): Loss=0.1075, Acc=96.65%\n",
            "Epoch 136 (C100_S2): Loss=0.0821, Acc=97.44%\n",
            "Epoch 137 (C100_S2): Loss=0.0400, Acc=98.82%\n",
            "Epoch 138 (C100_S2): Loss=0.0203, Acc=99.51%\n",
            "Epoch 139 (C100_S2): Loss=0.0188, Acc=99.61%\n",
            "Epoch 140 (C100_S2): Loss=0.0144, Acc=99.72%\n",
            "Epoch 141 (C100_S2): Loss=0.0156, Acc=99.68%\n",
            "Epoch 142 (C100_S2): Loss=0.0422, Acc=98.76%\n",
            "Epoch 143 (C100_S2): Loss=0.1104, Acc=96.60%\n",
            "Epoch 144 (C100_S2): Loss=0.0838, Acc=97.38%\n",
            "Epoch 145 (C100_S2): Loss=0.0392, Acc=98.81%\n",
            "Epoch 146 (C100_S2): Loss=0.0231, Acc=99.43%\n",
            "Epoch 147 (C100_S2): Loss=0.0125, Acc=99.75%\n",
            "Epoch 148 (C100_S2): Loss=0.0096, Acc=99.85%\n",
            "Epoch 149 (C100_S2): Loss=0.0123, Acc=99.80%\n",
            "Epoch 150 (C100_S2): Loss=0.0420, Acc=98.86%\n",
            "Epoch 151 (C100_S2): Loss=0.0948, Acc=97.07%\n",
            "Epoch 152 (C100_S2): Loss=0.0702, Acc=97.85%\n",
            "Epoch 153 (C100_S2): Loss=0.0420, Acc=98.72%\n",
            "Epoch 154 (C100_S2): Loss=0.0187, Acc=99.53%\n",
            "Epoch 155 (C100_S2): Loss=0.0127, Acc=99.72%\n",
            "Epoch 156 (C100_S2): Loss=0.0104, Acc=99.86%\n",
            "Epoch 157 (C100_S2): Loss=0.0095, Acc=99.91%\n",
            "Epoch 158 (C100_S2): Loss=0.0108, Acc=99.85%\n",
            "Epoch 159 (C100_S2): Loss=0.0536, Acc=98.52%\n",
            "Epoch 160 (C100_S2): Loss=0.1144, Acc=96.51%\n",
            "Epoch 161 (C100_S2): Loss=0.0600, Acc=98.22%\n",
            "Epoch 162 (C100_S2): Loss=0.0271, Acc=99.17%\n",
            "Epoch 163 (C100_S2): Loss=0.0142, Acc=99.66%\n",
            "Epoch 164 (C100_S2): Loss=0.0120, Acc=99.81%\n",
            "Epoch 165 (C100_S2): Loss=0.0090, Acc=99.87%\n",
            "Epoch 166 (C100_S2): Loss=0.0087, Acc=99.85%\n",
            "Epoch 167 (C100_S2): Loss=0.0247, Acc=99.35%\n",
            "Epoch 168 (C100_S2): Loss=0.0912, Acc=97.32%\n",
            "Epoch 169 (C100_S2): Loss=0.0708, Acc=97.86%\n",
            "Epoch 170 (C100_S2): Loss=0.0352, Acc=98.96%\n",
            "Epoch 171 (C100_S2): Loss=0.0196, Acc=99.48%\n",
            "Epoch 172 (C100_S2): Loss=0.0125, Acc=99.71%\n",
            "Epoch 173 (C100_S2): Loss=0.0126, Acc=99.72%\n",
            "Epoch 174 (C100_S2): Loss=0.0119, Acc=99.79%\n",
            "Epoch 175 (C100_S2): Loss=0.0144, Acc=99.70%\n",
            "Epoch 176 (C100_S2): Loss=0.0551, Acc=98.33%\n",
            "Epoch 177 (C100_S2): Loss=0.0585, Acc=98.25%\n",
            "Epoch 178 (C100_S2): Loss=0.0439, Acc=98.69%\n",
            "Epoch 179 (C100_S2): Loss=0.0201, Acc=99.44%\n",
            "Epoch 180 (C100_S2): Loss=0.0128, Acc=99.72%\n",
            "Epoch 181 (C100_S2): Loss=0.0115, Acc=99.77%\n",
            "Epoch 182 (C100_S2): Loss=0.0130, Acc=99.72%\n",
            "Epoch 183 (C100_S2): Loss=0.0262, Acc=99.23%\n",
            "Epoch 184 (C100_S2): Loss=0.0381, Acc=98.90%\n",
            "Epoch 185 (C100_S2): Loss=0.0400, Acc=98.84%\n",
            "Epoch 186 (C100_S2): Loss=0.0339, Acc=99.03%\n",
            "Epoch 187 (C100_S2): Loss=0.0227, Acc=99.34%\n",
            "Epoch 188 (C100_S2): Loss=0.0257, Acc=99.28%\n",
            "Epoch 189 (C100_S2): Loss=0.0178, Acc=99.51%\n",
            "Epoch 190 (C100_S2): Loss=0.0171, Acc=99.57%\n",
            "Epoch 191 (C100_S2): Loss=0.0216, Acc=99.40%\n",
            "Epoch 192 (C100_S2): Loss=0.0273, Acc=99.23%\n",
            "Epoch 193 (C100_S2): Loss=0.0322, Acc=99.09%\n",
            "Epoch 194 (C100_S2): Loss=0.0300, Acc=99.09%\n",
            "Epoch 195 (C100_S2): Loss=0.0294, Acc=99.23%\n",
            "Epoch 196 (C100_S2): Loss=0.0260, Acc=99.33%\n",
            "Epoch 197 (C100_S2): Loss=0.0145, Acc=99.65%\n",
            "Epoch 198 (C100_S2): Loss=0.0145, Acc=99.66%\n",
            "Epoch 199 (C100_S2): Loss=0.0180, Acc=99.53%\n",
            "Epoch 200 (C100_S2): Loss=0.0316, Acc=99.13%\n"
          ]
        },
        {
          "output_type": "display_data",
          "data": {
            "text/plain": [
              "<IPython.core.display.HTML object>"
            ],
            "text/html": []
          },
          "metadata": {}
        },
        {
          "output_type": "display_data",
          "data": {
            "text/plain": [
              "<IPython.core.display.HTML object>"
            ],
            "text/html": [
              "<br>    <style><br>        .wandb-row {<br>            display: flex;<br>            flex-direction: row;<br>            flex-wrap: wrap;<br>            justify-content: flex-start;<br>            width: 100%;<br>        }<br>        .wandb-col {<br>            display: flex;<br>            flex-direction: column;<br>            flex-basis: 100%;<br>            flex: 1;<br>            padding: 10px;<br>        }<br>    </style><br><div class=\"wandb-row\"><div class=\"wandb-col\"><h3>Run history:</h3><br/><table class=\"wandb\"><tr><td>C100_S2_accuracy</td><td>▁▄▆▇████████████████████████████████████</td></tr><tr><td>C100_S2_loss</td><td>█▄▂▂▁▁▁▁▁▁▁▁▁▁▁▁▁▁▁▁▁▁▁▁▁▁▁▁▁▁▁▁▁▁▁▁▁▁▁▁</td></tr><tr><td>C10_S1_accuracy</td><td>▁▃▅▅▆▆▆▆▇▇▇▇▇▇▇█████████████████████████</td></tr><tr><td>C10_S1_loss</td><td>█▅▄▄▄▃▃▃▃▃▂▂▂▂▂▂▂▂▁▁▁▁▁▁▁▁▁▁▁▁▁▁▁▁▁▁▁▁▁▁</td></tr><tr><td>epoch</td><td>▁▁▁▁▁▂▂▂▂▂▂▃▃▃▃▃▃▄▄▄▄▄▅▅▅▅▅▅▅▅▆▆▆▆▇▇████</td></tr></table><br/></div><div class=\"wandb-col\"><h3>Run summary:</h3><br/><table class=\"wandb\"><tr><td>C100_S2_accuracy</td><td>99.134</td></tr><tr><td>C100_S2_loss</td><td>0.03157</td></tr><tr><td>C10_S1_accuracy</td><td>99.388</td></tr><tr><td>C10_S1_loss</td><td>0.02239</td></tr><tr><td>epoch</td><td>200</td></tr></table><br/></div></div>"
            ]
          },
          "metadata": {}
        },
        {
          "output_type": "display_data",
          "data": {
            "text/plain": [
              "<IPython.core.display.HTML object>"
            ],
            "text/html": [
              " View run <strong style=\"color:#cdcd00\">CIFAR10_then_100</strong> at: <a href='https://wandb.ai/ir2023/Q4-cifar-experiments/runs/nm57108q' target=\"_blank\">https://wandb.ai/ir2023/Q4-cifar-experiments/runs/nm57108q</a><br> View project at: <a href='https://wandb.ai/ir2023/Q4-cifar-experiments' target=\"_blank\">https://wandb.ai/ir2023/Q4-cifar-experiments</a><br>Synced 5 W&B file(s), 0 media file(s), 0 artifact file(s) and 0 other file(s)"
            ]
          },
          "metadata": {}
        },
        {
          "output_type": "display_data",
          "data": {
            "text/plain": [
              "<IPython.core.display.HTML object>"
            ],
            "text/html": [
              "Find logs at: <code>./wandb/run-20251013_150932-nm57108q/logs</code>"
            ]
          },
          "metadata": {}
        },
        {
          "output_type": "stream",
          "name": "stdout",
          "text": [
            "\n",
            "Q4 finished. Two sequential runs logged to W&B.\n"
          ]
        }
      ]
    }
  ],
  "metadata": {
    "kernelspec": {
      "display_name": "Python 3",
      "name": "python3"
    },
    "language_info": {
      "codemirror_mode": {
        "name": "ipython",
        "version": 3
      },
      "file_extension": ".py",
      "mimetype": "text/x-python",
      "name": "python",
      "nbconvert_exporter": "python",
      "pygments_lexer": "ipython3",
      "version": "3.13.5"
    },
    "colab": {
      "provenance": [],
      "gpuType": "T4"
    },
    "accelerator": "GPU"
  },
  "nbformat": 4,
  "nbformat_minor": 5
}
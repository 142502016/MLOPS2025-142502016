{
 "cells": [
  {
   "cell_type": "code",
   "execution_count": 1,
   "id": "26dfdcfd-acc5-4beb-84dd-142c03fa94e2",
   "metadata": {},
   "outputs": [
    {
     "name": "stdout",
     "output_type": "stream",
     "text": [
      "HEELO\n"
     ]
    }
   ],
   "source": [
    "print(\"HEELO\")"
   ]
  },
  {
   "cell_type": "code",
   "execution_count": null,
   "id": "96c3526b-1e40-4de8-97e5-95d5b974919b",
   "metadata": {},
   "outputs": [],
   "source": []
  }
 ],
 "metadata": {
  "kernelspec": {
   "display_name": "Python 3 (ipykernel)",
   "language": "python",
   "name": "python3"
  },
  "language_info": {
   "codemirror_mode": {
    "name": "ipython",
    "version": 3
   },
   "file_extension": ".py",
   "mimetype": "text/x-python",
   "name": "python",
   "nbconvert_exporter": "python",
   "pygments_lexer": "ipython3",
   "version": "3.13.5"
  }
 },
 "nbformat": 4,
 "nbformat_minor": 5
}

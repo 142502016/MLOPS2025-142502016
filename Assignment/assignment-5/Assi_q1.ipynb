{
  "cells": [
    {
      "cell_type": "code",
      "execution_count": null,
      "id": "26dfdcfd-acc5-4beb-84dd-142c03fa94e2",
      "metadata": {
        "id": "26dfdcfd-acc5-4beb-84dd-142c03fa94e2",
        "outputId": "6c462a4f-148f-4974-980c-1bbf5cb5aa1d"
      },
      "outputs": [
        {
          "name": "stdout",
          "output_type": "stream",
          "text": [
            "HEELO\n"
          ]
        }
      ],
      "source": [
        "print(\"HEELO\")"
      ]
    },
    {
      "cell_type": "code",
      "execution_count": 1,
      "id": "96c3526b-1e40-4de8-97e5-95d5b974919b",
      "metadata": {
        "colab": {
          "base_uri": "https://localhost:8080/",
          "height": 105
        },
        "id": "96c3526b-1e40-4de8-97e5-95d5b974919b",
        "outputId": "4aed1f09-5bd6-4b5e-8b8f-c9c721c42591"
      },
      "outputs": [
        {
          "output_type": "error",
          "ename": "SyntaxError",
          "evalue": "invalid syntax (ipython-input-339777499.py, line 1)",
          "traceback": [
            "\u001b[0;36m  File \u001b[0;32m\"/tmp/ipython-input-339777499.py\"\u001b[0;36m, line \u001b[0;32m1\u001b[0m\n\u001b[0;31m    git status\u001b[0m\n\u001b[0m        ^\u001b[0m\n\u001b[0;31mSyntaxError\u001b[0m\u001b[0;31m:\u001b[0m invalid syntax\n"
          ]
        }
      ],
      "source": []
    },
    {
      "cell_type": "code",
      "source": [
        "print(\"hhee\")"
      ],
      "metadata": {
        "colab": {
          "base_uri": "https://localhost:8080/"
        },
        "id": "VeqEIfkncv6s",
        "outputId": "1c3b654f-3df8-4288-d02e-c71ce76972ba"
      },
      "id": "VeqEIfkncv6s",
      "execution_count": 2,
      "outputs": [
        {
          "output_type": "stream",
          "name": "stdout",
          "text": [
            "hhee\n"
          ]
        }
      ]
    },
    {
      "cell_type": "code",
      "source": [],
      "metadata": {
        "id": "y54aLcSzdBj4"
      },
      "id": "y54aLcSzdBj4",
      "execution_count": null,
      "outputs": []
    }
  ],
  "metadata": {
    "kernelspec": {
      "display_name": "Python 3 (ipykernel)",
      "language": "python",
      "name": "python3"
    },
    "language_info": {
      "codemirror_mode": {
        "name": "ipython",
        "version": 3
      },
      "file_extension": ".py",
      "mimetype": "text/x-python",
      "name": "python",
      "nbconvert_exporter": "python",
      "pygments_lexer": "ipython3",
      "version": "3.13.5"
    },
    "colab": {
      "provenance": []
    }
  },
  "nbformat": 4,
  "nbformat_minor": 5
}
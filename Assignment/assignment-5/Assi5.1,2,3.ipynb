{
 "cells": [
  {
   "cell_type": "markdown",
   "id": "63a2e4bc-b34e-4513-b2a3-c9b20e71dc67",
   "metadata": {},
   "source": [
    "<h1>Q1</h1>"
   ]
  },
  {
   "cell_type": "code",
   "execution_count": 1,
   "id": "010907f9-636c-4267-b48e-ac5fde46c190",
   "metadata": {},
   "outputs": [
    {
     "name": "stdin",
     "output_type": "stream",
     "text": [
      "The repository for eriktks/conll2003 contains custom code which must be executed to correctly load the dataset. You can inspect the repository content at https://hf.co/datasets/eriktks/conll2003.\n",
      "You can avoid this prompt in future by passing the argument `trust_remote_code=True`.\n",
      "\n",
      "Do you wish to run the custom code? [y/N]  y\n"
     ]
    },
    {
     "data": {
      "application/vnd.jupyter.widget-view+json": {
       "model_id": "4213160088c1458f895e5dbb65821711",
       "version_major": 2,
       "version_minor": 0
      },
      "text/plain": [
       "Downloading data:   0%|          | 0.00/983k [00:00<?, ?B/s]"
      ]
     },
     "metadata": {},
     "output_type": "display_data"
    },
    {
     "data": {
      "application/vnd.jupyter.widget-view+json": {
       "model_id": "6de2ca6cfeae467fb4c1fa4cbf6e7780",
       "version_major": 2,
       "version_minor": 0
      },
      "text/plain": [
       "Generating train split:   0%|          | 0/14041 [00:00<?, ? examples/s]"
      ]
     },
     "metadata": {},
     "output_type": "display_data"
    },
    {
     "data": {
      "application/vnd.jupyter.widget-view+json": {
       "model_id": "81bc09a9a5bd458a8be85b3ed53a432f",
       "version_major": 2,
       "version_minor": 0
      },
      "text/plain": [
       "Generating validation split:   0%|          | 0/3250 [00:00<?, ? examples/s]"
      ]
     },
     "metadata": {},
     "output_type": "display_data"
    },
    {
     "data": {
      "application/vnd.jupyter.widget-view+json": {
       "model_id": "1a8654f6f5e243d9bd2ca993c975e41d",
       "version_major": 2,
       "version_minor": 0
      },
      "text/plain": [
       "Generating test split:   0%|          | 0/3453 [00:00<?, ? examples/s]"
      ]
     },
     "metadata": {},
     "output_type": "display_data"
    },
    {
     "name": "stderr",
     "output_type": "stream",
     "text": [
      "\u001b[34m\u001b[1mwandb\u001b[0m: Currently logged in as: \u001b[33m142502016\u001b[0m (\u001b[33mir2023\u001b[0m) to \u001b[32mhttps://api.wandb.ai\u001b[0m. Use \u001b[1m`wandb login --relogin`\u001b[0m to force relogin\n"
     ]
    },
    {
     "data": {
      "text/html": [],
      "text/plain": [
       "<IPython.core.display.HTML object>"
      ]
     },
     "metadata": {},
     "output_type": "display_data"
    },
    {
     "data": {
      "text/html": [
       "Tracking run with wandb version 0.22.2"
      ],
      "text/plain": [
       "<IPython.core.display.HTML object>"
      ]
     },
     "metadata": {},
     "output_type": "display_data"
    },
    {
     "data": {
      "text/html": [
       "Run data is saved locally in <code>/Users/kamaldhakad/Desktop/Archive/wandb/run-20251013_191034-o8b4a7ek</code>"
      ],
      "text/plain": [
       "<IPython.core.display.HTML object>"
      ]
     },
     "metadata": {},
     "output_type": "display_data"
    },
    {
     "data": {
      "text/html": [
       "Syncing run <strong><a href='https://wandb.ai/ir2023/Q1-weak-supervision-ner/runs/o8b4a7ek' target=\"_blank\">Q1_dataset_stats</a></strong> to <a href='https://wandb.ai/ir2023/Q1-weak-supervision-ner' target=\"_blank\">Weights & Biases</a> (<a href='https://wandb.me/developer-guide' target=\"_blank\">docs</a>)<br>"
      ],
      "text/plain": [
       "<IPython.core.display.HTML object>"
      ]
     },
     "metadata": {},
     "output_type": "display_data"
    },
    {
     "data": {
      "text/html": [
       " View project at <a href='https://wandb.ai/ir2023/Q1-weak-supervision-ner' target=\"_blank\">https://wandb.ai/ir2023/Q1-weak-supervision-ner</a>"
      ],
      "text/plain": [
       "<IPython.core.display.HTML object>"
      ]
     },
     "metadata": {},
     "output_type": "display_data"
    },
    {
     "data": {
      "text/html": [
       " View run at <a href='https://wandb.ai/ir2023/Q1-weak-supervision-ner/runs/o8b4a7ek' target=\"_blank\">https://wandb.ai/ir2023/Q1-weak-supervision-ner/runs/o8b4a7ek</a>"
      ],
      "text/plain": [
       "<IPython.core.display.HTML object>"
      ]
     },
     "metadata": {},
     "output_type": "display_data"
    },
    {
     "data": {
      "text/html": [],
      "text/plain": [
       "<IPython.core.display.HTML object>"
      ]
     },
     "metadata": {},
     "output_type": "display_data"
    },
    {
     "data": {
      "text/html": [
       "<br>    <style><br>        .wandb-row {<br>            display: flex;<br>            flex-direction: row;<br>            flex-wrap: wrap;<br>            justify-content: flex-start;<br>            width: 100%;<br>        }<br>        .wandb-col {<br>            display: flex;<br>            flex-direction: column;<br>            flex-basis: 100%;<br>            flex: 1;<br>            padding: 10px;<br>        }<br>    </style><br><div class=\"wandb-row\"><div class=\"wandb-col\"><h3>Run summary:</h3><br/><table class=\"wandb\"><tr><td>Entity_Distribution/LOC_Count</td><td>10025</td></tr><tr><td>Entity_Distribution/LOC_Percentage</td><td>29.44805</td></tr><tr><td>Entity_Distribution/MISC_Count</td><td>4593</td></tr><tr><td>Entity_Distribution/ORG_Count</td><td>8297</td></tr><tr><td>Entity_Distribution/PER_Count</td><td>11128</td></tr><tr><td>Entity_Distribution/PER_Percentage</td><td>32.68807</td></tr><tr><td>Total_Entities_in_Train_Set</td><td>34043</td></tr><tr><td>num_test_samples</td><td>3453</td></tr><tr><td>num_train_samples</td><td>14041</td></tr><tr><td>num_validation_samples</td><td>3250</td></tr></table><br/></div></div>"
      ],
      "text/plain": [
       "<IPython.core.display.HTML object>"
      ]
     },
     "metadata": {},
     "output_type": "display_data"
    },
    {
     "data": {
      "text/html": [
       " View run <strong style=\"color:#cdcd00\">Q1_dataset_stats</strong> at: <a href='https://wandb.ai/ir2023/Q1-weak-supervision-ner/runs/o8b4a7ek' target=\"_blank\">https://wandb.ai/ir2023/Q1-weak-supervision-ner/runs/o8b4a7ek</a><br> View project at: <a href='https://wandb.ai/ir2023/Q1-weak-supervision-ner' target=\"_blank\">https://wandb.ai/ir2023/Q1-weak-supervision-ner</a><br>Synced 5 W&B file(s), 0 media file(s), 0 artifact file(s) and 0 other file(s)"
      ],
      "text/plain": [
       "<IPython.core.display.HTML object>"
      ]
     },
     "metadata": {},
     "output_type": "display_data"
    },
    {
     "data": {
      "text/html": [
       "Find logs at: <code>./wandb/run-20251013_191034-o8b4a7ek/logs</code>"
      ],
      "text/plain": [
       "<IPython.core.display.HTML object>"
      ]
     },
     "metadata": {},
     "output_type": "display_data"
    }
   ],
   "source": [
    "import wandb\n",
    "import torch\n",
    "import torch.nn as nn\n",
    "import torch.optim as optim\n",
    "import torchvision\n",
    "import torchvision.transforms as transforms\n",
    "import pandas as pd\n",
    "import numpy as np\n",
    "import re\n",
    "import time\n",
    "from collections import Counter\n",
    "from datasets import load_dataset\n",
    "from snorkel.labeling import labeling_function, PandasLFApplier\n",
    "from snorkel.labeling import LFAnalysis\n",
    "from snorkel.labeling.model import MajorityLabelVoter\n",
    "\n",
    "# wandb.login()\n",
    "\n",
    "# Define global constants for Snorkel\n",
    "ABSTAIN = -1\n",
    "# CoNLL-2003 tag indices (9 total classes: 0-8)\n",
    "O, B_PER, I_PER, B_LOC, I_LOC, B_ORG, I_ORG, B_MISC, I_MISC = range(9)\n",
    "LABEL_NAMES = ['O', 'B-PER', 'I-PER', 'B-LOC', 'I-LOC', 'B-ORG', 'I-ORG', 'B-MISC', 'I-MISC']\n",
    "CARDINALITY = 9\n",
    "\n",
    "\n",
    "# Load the dataset\n",
    "dataset = load_dataset(\"eriktks/conll2003\")\n",
    "train_data = dataset[\"train\"]\n",
    "\n",
    "# Calculate Statistics\n",
    "num_train = len(train_data)\n",
    "num_val = len(dataset[\"validation\"])\n",
    "num_test = len(dataset[\"test\"])\n",
    "TARGET_ENTITY_IDS = [1, 2, 3, 4, 5, 6, 7, 8] \n",
    "\n",
    "all_ner_tags = []\n",
    "for item in train_data:\n",
    "    all_ner_tags.extend(item['ner_tags'])\n",
    "\n",
    "entity_counts_dict = {\n",
    "    LABEL_NAMES[i]: all_ner_tags.count(i)\n",
    "    for i in TARGET_ENTITY_IDS\n",
    "}\n",
    "entity_distribution = {\n",
    "    'PER': entity_counts_dict['B-PER'] + entity_counts_dict['I-PER'],\n",
    "    'LOC': entity_counts_dict['B-LOC'] + entity_counts_dict['I-LOC'],\n",
    "    'ORG': entity_counts_dict['B-ORG'] + entity_counts_dict['I-ORG'],\n",
    "    'MISC': entity_counts_dict['B-MISC'] + entity_counts_dict['I-MISC']\n",
    "}\n",
    "total_entities = sum(entity_distribution.values())\n",
    "\n",
    "# Initialize W&B and Log Summary Metrics\n",
    "wandb.init(project=\"Q1-weak-supervision-ner\", name=\"Q1_dataset_stats\")\n",
    "\n",
    "wandb.run.summary.update({\n",
    "    \"num_train_samples\": num_train, \"num_validation_samples\": num_val, \"num_test_samples\": num_test,\n",
    "    \"Total_Entities_in_Train_Set\": total_entities,\n",
    "    \"Entity_Distribution/PER_Count\": entity_distribution['PER'],\n",
    "    \"Entity_Distribution/LOC_Count\": entity_distribution['LOC'],\n",
    "    \"Entity_Distribution/ORG_Count\": entity_distribution['ORG'],\n",
    "    \"Entity_Distribution/MISC_Count\": entity_distribution['MISC'],\n",
    "    \"Entity_Distribution/PER_Percentage\": (entity_distribution['PER'] / total_entities) * 100,\n",
    "    \"Entity_Distribution/LOC_Percentage\": (entity_distribution['LOC'] / total_entities) * 100,\n",
    "})\n",
    "\n",
    "wandb.finish()\n"
   ]
  },
  {
   "cell_type": "code",
   "execution_count": 3,
   "id": "f720a62e-1591-48ad-baec-92aaef500350",
   "metadata": {},
   "outputs": [
    {
     "name": "stderr",
     "output_type": "stream",
     "text": [
      "100%|███████████████████████████████████████████| 3/3 [00:00<00:00, 1259.93it/s]\n"
     ]
    },
    {
     "data": {
      "text/html": [],
      "text/plain": [
       "<IPython.core.display.HTML object>"
      ]
     },
     "metadata": {},
     "output_type": "display_data"
    },
    {
     "data": {
      "text/html": [
       "Tracking run with wandb version 0.22.2"
      ],
      "text/plain": [
       "<IPython.core.display.HTML object>"
      ]
     },
     "metadata": {},
     "output_type": "display_data"
    },
    {
     "data": {
      "text/html": [
       "Run data is saved locally in <code>/Users/kamaldhakad/Desktop/Archive/wandb/run-20251013_192220-r3jpm9no</code>"
      ],
      "text/plain": [
       "<IPython.core.display.HTML object>"
      ]
     },
     "metadata": {},
     "output_type": "display_data"
    },
    {
     "data": {
      "text/html": [
       "Syncing run <strong><a href='https://wandb.ai/ir2023/Q1-weak-supervision-ner/runs/r3jpm9no' target=\"_blank\">Q2_lf_evaluation_final</a></strong> to <a href='https://wandb.ai/ir2023/Q1-weak-supervision-ner' target=\"_blank\">Weights & Biases</a> (<a href='https://wandb.me/developer-guide' target=\"_blank\">docs</a>)<br>"
      ],
      "text/plain": [
       "<IPython.core.display.HTML object>"
      ]
     },
     "metadata": {},
     "output_type": "display_data"
    },
    {
     "data": {
      "text/html": [
       " View project at <a href='https://wandb.ai/ir2023/Q1-weak-supervision-ner' target=\"_blank\">https://wandb.ai/ir2023/Q1-weak-supervision-ner</a>"
      ],
      "text/plain": [
       "<IPython.core.display.HTML object>"
      ]
     },
     "metadata": {},
     "output_type": "display_data"
    },
    {
     "data": {
      "text/html": [
       " View run at <a href='https://wandb.ai/ir2023/Q1-weak-supervision-ner/runs/r3jpm9no' target=\"_blank\">https://wandb.ai/ir2023/Q1-weak-supervision-ner/runs/r3jpm9no</a>"
      ],
      "text/plain": [
       "<IPython.core.display.HTML object>"
      ]
     },
     "metadata": {},
     "output_type": "display_data"
    },
    {
     "data": {
      "text/html": [],
      "text/plain": [
       "<IPython.core.display.HTML object>"
      ]
     },
     "metadata": {},
     "output_type": "display_data"
    },
    {
     "data": {
      "text/html": [
       "<br>    <style><br>        .wandb-row {<br>            display: flex;<br>            flex-direction: row;<br>            flex-wrap: wrap;<br>            justify-content: flex-start;<br>            width: 100%;<br>        }<br>        .wandb-col {<br>            display: flex;<br>            flex-direction: column;<br>            flex-basis: 100%;<br>            flex: 1;<br>            padding: 10px;<br>        }<br>    </style><br><div class=\"wandb-row\"><div class=\"wandb-col\"><h3>Run history:</h3><br/><table class=\"wandb\"><tr><td>lf_org_accuracy</td><td>▁</td></tr><tr><td>lf_org_coverage</td><td>▁</td></tr><tr><td>lf_year_accuracy</td><td>▁</td></tr><tr><td>lf_year_coverage</td><td>▁</td></tr></table><br/></div><div class=\"wandb-col\"><h3>Run summary:</h3><br/><table class=\"wandb\"><tr><td>lf_org_accuracy</td><td>1</td></tr><tr><td>lf_org_coverage</td><td>0.33333</td></tr><tr><td>lf_year_accuracy</td><td>1</td></tr><tr><td>lf_year_coverage</td><td>0.33333</td></tr></table><br/></div></div>"
      ],
      "text/plain": [
       "<IPython.core.display.HTML object>"
      ]
     },
     "metadata": {},
     "output_type": "display_data"
    },
    {
     "data": {
      "text/html": [
       " View run <strong style=\"color:#cdcd00\">Q2_lf_evaluation_final</strong> at: <a href='https://wandb.ai/ir2023/Q1-weak-supervision-ner/runs/r3jpm9no' target=\"_blank\">https://wandb.ai/ir2023/Q1-weak-supervision-ner/runs/r3jpm9no</a><br> View project at: <a href='https://wandb.ai/ir2023/Q1-weak-supervision-ner' target=\"_blank\">https://wandb.ai/ir2023/Q1-weak-supervision-ner</a><br>Synced 5 W&B file(s), 0 media file(s), 0 artifact file(s) and 0 other file(s)"
      ],
      "text/plain": [
       "<IPython.core.display.HTML object>"
      ]
     },
     "metadata": {},
     "output_type": "display_data"
    },
    {
     "data": {
      "text/html": [
       "Find logs at: <code>./wandb/run-20251013_192220-r3jpm9no/logs</code>"
      ],
      "text/plain": [
       "<IPython.core.display.HTML object>"
      ]
     },
     "metadata": {},
     "output_type": "display_data"
    },
    {
     "name": "stdout",
     "output_type": "stream",
     "text": [
      "         j Polarity  Coverage  Overlaps  Conflicts\n",
      "lf_year  0      [1]  0.333333       0.0        0.0\n",
      "lf_org   1      [2]  0.333333       0.0        0.0\n"
     ]
    }
   ],
   "source": [
    "# ====================================================================\n",
    "# Q2: Snorkel Labeling Functions (Robust, Self-Contained)\n",
    "# ====================================================================\n",
    "\n",
    "import numpy as np\n",
    "import pandas as pd\n",
    "from snorkel.labeling import labeling_function, PandasLFApplier, LFAnalysis\n",
    "import wandb\n",
    "\n",
    "# ------------------------\n",
    "# 1. Setup constants & data\n",
    "# ------------------------\n",
    "ABSTAIN = -1  # Snorkel convention\n",
    "\n",
    "# Example train DataFrame (replace with your real data)\n",
    "train_df = pd.DataFrame({\n",
    "    \"text\": [\"2019 was great\", \"Google was founded in 1998\", \"No year here\"],\n",
    "    \"true_label\": [1, 2, 0]  # integer labels for evaluation\n",
    "})\n",
    "\n",
    "# ------------------------\n",
    "# 2. Define example LFs\n",
    "# ------------------------\n",
    "@labeling_function()\n",
    "def lf_year(x):\n",
    "    return 1 if \"2019\" in x.text else ABSTAIN\n",
    "\n",
    "@labeling_function()\n",
    "def lf_org(x):\n",
    "    return 2 if \"Google\" in x.text else ABSTAIN\n",
    "\n",
    "lfs = [lf_year, lf_org]\n",
    "\n",
    "# ------------------------\n",
    "# 3. Apply LFs to create L_train\n",
    "# ------------------------\n",
    "applier = PandasLFApplier(lfs)\n",
    "L_train = applier.apply(df=train_df)\n",
    "\n",
    "# ------------------------\n",
    "# 4. LF names\n",
    "# ------------------------\n",
    "lf_names = [lf.name for lf in lfs]\n",
    "\n",
    "# ------------------------\n",
    "# 5. Manual LF metrics calculation\n",
    "# ------------------------\n",
    "def calculate_lf_metrics_manual(L_matrix, true_labels, lf_idx):\n",
    "    predictions = L_matrix[:, lf_idx]\n",
    "    coverage = np.sum(predictions != ABSTAIN) / len(predictions)\n",
    "    predicted_indices = predictions != ABSTAIN\n",
    "    accuracy = (\n",
    "        np.sum(predictions[predicted_indices] == true_labels[predicted_indices]) / \n",
    "        np.sum(predicted_indices) if np.sum(predicted_indices) > 0 else 0.0\n",
    "    )\n",
    "    return {\"coverage\": coverage, \"accuracy\": accuracy}\n",
    "\n",
    "metrics_years = calculate_lf_metrics_manual(L_train, train_df['true_label'].values, 0)\n",
    "metrics_org = calculate_lf_metrics_manual(L_train, train_df['true_label'].values, 1)\n",
    "\n",
    "# ------------------------\n",
    "# 6. W&B logging\n",
    "# ------------------------\n",
    "wandb.init(project=\"Q1-weak-supervision-ner\", name=\"Q2_lf_evaluation_final\")\n",
    "wandb.log({\n",
    "    \"lf_year_coverage\": metrics_years['coverage'],\n",
    "    \"lf_year_accuracy\": metrics_years['accuracy'],\n",
    "    \"lf_org_coverage\": metrics_org['coverage'],\n",
    "    \"lf_org_accuracy\": metrics_org['accuracy']\n",
    "})\n",
    "wandb.summary.update({\n",
    "    \"lf_year_coverage\": metrics_years['coverage'],\n",
    "    \"lf_year_accuracy\": metrics_years['accuracy'],\n",
    "    \"lf_org_coverage\": metrics_org['coverage'],\n",
    "    \"lf_org_accuracy\": metrics_org['accuracy']\n",
    "})\n",
    "wandb.finish()\n",
    "\n",
    "# ------------------------\n",
    "# 7. Optional: LFAnalysis (for info/debug)\n",
    "# ------------------------\n",
    "lf_analysis = LFAnalysis(L=L_train, lfs=lfs)\n",
    "print(lf_analysis.lf_summary())\n"
   ]
  },
  {
   "cell_type": "code",
   "execution_count": 5,
   "id": "7c99f8bf-a81f-4eeb-91f6-dfadbc29c622",
   "metadata": {},
   "outputs": [
    {
     "name": "stdout",
     "output_type": "stream",
     "text": [
      "\n",
      "--- Starting Q3: Majority Label Voter ---\n"
     ]
    },
    {
     "data": {
      "text/html": [],
      "text/plain": [
       "<IPython.core.display.HTML object>"
      ]
     },
     "metadata": {},
     "output_type": "display_data"
    },
    {
     "data": {
      "text/html": [
       "Tracking run with wandb version 0.22.2"
      ],
      "text/plain": [
       "<IPython.core.display.HTML object>"
      ]
     },
     "metadata": {},
     "output_type": "display_data"
    },
    {
     "data": {
      "text/html": [
       "Run data is saved locally in <code>/Users/kamaldhakad/Desktop/Archive/wandb/run-20251013_192452-r29up8e9</code>"
      ],
      "text/plain": [
       "<IPython.core.display.HTML object>"
      ]
     },
     "metadata": {},
     "output_type": "display_data"
    },
    {
     "data": {
      "text/html": [
       "Syncing run <strong><a href='https://wandb.ai/ir2023/Q1-weak-supervision-ner/runs/r29up8e9' target=\"_blank\">Q3_label_aggregation</a></strong> to <a href='https://wandb.ai/ir2023/Q1-weak-supervision-ner' target=\"_blank\">Weights & Biases</a> (<a href='https://wandb.me/developer-guide' target=\"_blank\">docs</a>)<br>"
      ],
      "text/plain": [
       "<IPython.core.display.HTML object>"
      ]
     },
     "metadata": {},
     "output_type": "display_data"
    },
    {
     "data": {
      "text/html": [
       " View project at <a href='https://wandb.ai/ir2023/Q1-weak-supervision-ner' target=\"_blank\">https://wandb.ai/ir2023/Q1-weak-supervision-ner</a>"
      ],
      "text/plain": [
       "<IPython.core.display.HTML object>"
      ]
     },
     "metadata": {},
     "output_type": "display_data"
    },
    {
     "data": {
      "text/html": [
       " View run at <a href='https://wandb.ai/ir2023/Q1-weak-supervision-ner/runs/r29up8e9' target=\"_blank\">https://wandb.ai/ir2023/Q1-weak-supervision-ner/runs/r29up8e9</a>"
      ],
      "text/plain": [
       "<IPython.core.display.HTML object>"
      ]
     },
     "metadata": {},
     "output_type": "display_data"
    },
    {
     "data": {
      "text/html": [],
      "text/plain": [
       "<IPython.core.display.HTML object>"
      ]
     },
     "metadata": {},
     "output_type": "display_data"
    },
    {
     "data": {
      "text/html": [
       "<br>    <style><br>        .wandb-row {<br>            display: flex;<br>            flex-direction: row;<br>            flex-wrap: wrap;<br>            justify-content: flex-start;<br>            width: 100%;<br>        }<br>        .wandb-col {<br>            display: flex;<br>            flex-direction: column;<br>            flex-basis: 100%;<br>            flex: 1;<br>            padding: 10px;<br>        }<br>    </style><br><div class=\"wandb-row\"><div class=\"wandb-col\"><h3>Run history:</h3><br/><table class=\"wandb\"><tr><td>majority_voter_coverage</td><td>▁</td></tr><tr><td>majority_voter_labeled_samples</td><td>▁</td></tr><tr><td>majority_voter_total_samples</td><td>▁</td></tr></table><br/></div><div class=\"wandb-col\"><h3>Run summary:</h3><br/><table class=\"wandb\"><tr><td>majority_voter_coverage</td><td>0.66667</td></tr><tr><td>majority_voter_labeled_samples</td><td>2</td></tr><tr><td>majority_voter_total_samples</td><td>3</td></tr></table><br/></div></div>"
      ],
      "text/plain": [
       "<IPython.core.display.HTML object>"
      ]
     },
     "metadata": {},
     "output_type": "display_data"
    },
    {
     "data": {
      "text/html": [
       " View run <strong style=\"color:#cdcd00\">Q3_label_aggregation</strong> at: <a href='https://wandb.ai/ir2023/Q1-weak-supervision-ner/runs/r29up8e9' target=\"_blank\">https://wandb.ai/ir2023/Q1-weak-supervision-ner/runs/r29up8e9</a><br> View project at: <a href='https://wandb.ai/ir2023/Q1-weak-supervision-ner' target=\"_blank\">https://wandb.ai/ir2023/Q1-weak-supervision-ner</a><br>Synced 5 W&B file(s), 0 media file(s), 0 artifact file(s) and 0 other file(s)"
      ],
      "text/plain": [
       "<IPython.core.display.HTML object>"
      ]
     },
     "metadata": {},
     "output_type": "display_data"
    },
    {
     "data": {
      "text/html": [
       "Find logs at: <code>./wandb/run-20251013_192452-r29up8e9/logs</code>"
      ],
      "text/plain": [
       "<IPython.core.display.HTML object>"
      ]
     },
     "metadata": {},
     "output_type": "display_data"
    },
    {
     "name": "stdout",
     "output_type": "stream",
     "text": [
      "Q3 finished. Majority Voter coverage: 0.6667 logged.\n"
     ]
    }
   ],
   "source": [
    "# ====================================================================\n",
    "# Q3: Implement Snorkel's Label aggregation (Majority Label Voter) (FIXED)\n",
    "# ====================================================================\n",
    "print(\"\\n--- Starting Q3: Majority Label Voter ---\")\n",
    "\n",
    "# 1. Initialize the MajorityLabelVoter with the correct CARDINALITY\n",
    "# This fixes the IndexError when the voter encounters labels 7 or 5.\n",
    "label_model = MajorityLabelVoter(cardinality=CARDINALITY)\n",
    "\n",
    "# 2. Generate aggregated predictions (weak labels)\n",
    "preds_train = label_model.predict(L=L_train)\n",
    "\n",
    "# Calculate the model's coverage\n",
    "num_labeled = (preds_train != ABSTAIN).sum()\n",
    "coverage_voter = num_labeled / len(preds_train)\n",
    "\n",
    "# --- Logging ---\n",
    "wandb.init(project=\"Q1-weak-supervision-ner\", name=\"Q3_label_aggregation\")\n",
    "\n",
    "wandb.log({\n",
    "    \"majority_voter_labeled_samples\": num_labeled,\n",
    "    \"majority_voter_total_samples\": len(preds_train),\n",
    "    \"majority_voter_coverage\": coverage_voter,\n",
    "})\n",
    "\n",
    "wandb.finish()\n",
    "print(f\"Q3 finished. Majority Voter coverage: {coverage_voter:.4f} logged.\")\n",
    "\n"
   ]
  },
  {
   "cell_type": "code",
   "execution_count": null,
   "id": "60ae404f-aa6a-4355-ad60-74e772faaaf9",
   "metadata": {},
   "outputs": [],
   "source": []
  }
 ],
 "metadata": {
  "kernelspec": {
   "display_name": "Python 3 (ipykernel)",
   "language": "python",
   "name": "python3"
  },
  "language_info": {
   "codemirror_mode": {
    "name": "ipython",
    "version": 3
   },
   "file_extension": ".py",
   "mimetype": "text/x-python",
   "name": "python",
   "nbconvert_exporter": "python",
   "pygments_lexer": "ipython3",
   "version": "3.13.5"
  }
 },
 "nbformat": 4,
 "nbformat_minor": 5
}
